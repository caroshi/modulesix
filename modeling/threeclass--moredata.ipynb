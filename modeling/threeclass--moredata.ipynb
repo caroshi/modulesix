{
 "cells": [
  {
   "cell_type": "code",
   "execution_count": null,
   "metadata": {
    "id": "Z4EwW2nxH51J"
   },
   "outputs": [],
   "source": [
    "import pandas as pd\n",
    "import numpy as np\n",
    "\n",
    "import keras\n",
    "from keras import layers\n",
    "from keras import models\n",
    "from keras import optimizers\n",
    "\n",
    "from keras.preprocessing.image import ImageDataGenerator, image\n",
    "from keras.applications import mobilenet_v2\n",
    "from keras.layers import Dense, Conv2D, MaxPooling2D, Flatten, Dropout, InputLayer\n",
    "from tensorflow.keras.callbacks import EarlyStopping\n",
    "from tensorflow.keras.optimizers import Adam\n",
    "from tensorflow.keras.applications import VGG16\n",
    "from tensorflow.keras.models import Sequential, Model\n",
    "from keras.models import load_model\n",
    "\n",
    "import math\n",
    "from sklearn.metrics import confusion_matrix, classification_report\n",
    "\n",
    "import glob\n",
    "import os\n",
    "from pathlib import Path\n",
    "import shutil\n",
    "\n",
    "import seaborn as sns\n",
    "import matplotlib.pyplot as plt\n",
    "%matplotlib inline"
   ]
  },
  {
   "cell_type": "code",
   "execution_count": null,
   "metadata": {
    "colab": {
     "base_uri": "https://localhost:8080/",
     "height": 35
    },
    "executionInfo": {
     "elapsed": 5,
     "status": "ok",
     "timestamp": 1623341731230,
     "user": {
      "displayName": "caroline shi",
      "photoUrl": "https://lh3.googleusercontent.com/a-/AOh14Gh0UvgeQ-e1aTotF83kgNe-IlqcX7-2TuedHOI1zA=s64",
      "userId": "15004570275929463310"
     },
     "user_tz": 420
    },
    "id": "OGTvssOhImKL",
    "outputId": "f2c7bd67-0f02-4bb7-ed5a-98295560d36d"
   },
   "outputs": [
    {
     "data": {
      "application/vnd.google.colaboratory.intrinsic+json": {
       "type": "string"
      },
      "text/plain": [
       "'2.5.0'"
      ]
     },
     "execution_count": 3,
     "metadata": {
      "tags": []
     },
     "output_type": "execute_result"
    }
   ],
   "source": [
    "keras.__version__"
   ]
  },
  {
   "cell_type": "code",
   "execution_count": null,
   "metadata": {
    "colab": {
     "base_uri": "https://localhost:8080/"
    },
    "executionInfo": {
     "elapsed": 3,
     "status": "ok",
     "timestamp": 1623341732270,
     "user": {
      "displayName": "caroline shi",
      "photoUrl": "https://lh3.googleusercontent.com/a-/AOh14Gh0UvgeQ-e1aTotF83kgNe-IlqcX7-2TuedHOI1zA=s64",
      "userId": "15004570275929463310"
     },
     "user_tz": 420
    },
    "id": "3TrPt0HYxz-I",
    "outputId": "23a8f625-6dc4-42ed-8a71-dfe771789ff7"
   },
   "outputs": [
    {
     "name": "stdout",
     "output_type": "stream",
     "text": [
      "Drive already mounted at /content/drive; to attempt to forcibly remount, call drive.mount(\"/content/drive\", force_remount=True).\n"
     ]
    }
   ],
   "source": [
    "from google.colab import drive\n",
    "drive.mount('/content/drive')"
   ]
  },
  {
   "cell_type": "code",
   "execution_count": null,
   "metadata": {
    "id": "7eHS3p8k0uZg"
   },
   "outputs": [],
   "source": [
    "train_dir = '/content/drive/MyDrive/expanded_threeclass/train'\n",
    "validation_dir = '/content/drive/MyDrive/expanded_threeclass/validation'\n",
    "test_dir = '/content/drive/MyDrive/expanded_threeclass/test'"
   ]
  },
  {
   "cell_type": "code",
   "execution_count": null,
   "metadata": {
    "colab": {
     "base_uri": "https://localhost:8080/"
    },
    "executionInfo": {
     "elapsed": 2788,
     "status": "ok",
     "timestamp": 1623341743472,
     "user": {
      "displayName": "caroline shi",
      "photoUrl": "https://lh3.googleusercontent.com/a-/AOh14Gh0UvgeQ-e1aTotF83kgNe-IlqcX7-2TuedHOI1zA=s64",
      "userId": "15004570275929463310"
     },
     "user_tz": 420
    },
    "id": "brhfLuiSH45L",
    "outputId": "e8e57158-6dbc-4182-b58c-f1f0a557d2e9"
   },
   "outputs": [
    {
     "name": "stdout",
     "output_type": "stream",
     "text": [
      "Downloading data from https://storage.googleapis.com/tensorflow/keras-applications/vgg16/vgg16_weights_tf_dim_ordering_tf_kernels_notop.h5\n",
      "58892288/58889256 [==============================] - 1s 0us/step\n"
     ]
    }
   ],
   "source": [
    "conv_base = VGG16(weights='imagenet',\n",
    "                  include_top=False,\n",
    "                  input_shape=(150, 150, 3))"
   ]
  },
  {
   "cell_type": "code",
   "execution_count": null,
   "metadata": {
    "colab": {
     "base_uri": "https://localhost:8080/"
    },
    "executionInfo": {
     "elapsed": 5,
     "status": "ok",
     "timestamp": 1623341743473,
     "user": {
      "displayName": "caroline shi",
      "photoUrl": "https://lh3.googleusercontent.com/a-/AOh14Gh0UvgeQ-e1aTotF83kgNe-IlqcX7-2TuedHOI1zA=s64",
      "userId": "15004570275929463310"
     },
     "user_tz": 420
    },
    "id": "YQqxVHjkH6Zv",
    "outputId": "fbca941a-8ca2-4dc3-8c89-b7cfe9b26857"
   },
   "outputs": [
    {
     "name": "stdout",
     "output_type": "stream",
     "text": [
      "Model: \"vgg16\"\n",
      "_________________________________________________________________\n",
      "Layer (type)                 Output Shape              Param #   \n",
      "=================================================================\n",
      "input_1 (InputLayer)         [(None, 150, 150, 3)]     0         \n",
      "_________________________________________________________________\n",
      "block1_conv1 (Conv2D)        (None, 150, 150, 64)      1792      \n",
      "_________________________________________________________________\n",
      "block1_conv2 (Conv2D)        (None, 150, 150, 64)      36928     \n",
      "_________________________________________________________________\n",
      "block1_pool (MaxPooling2D)   (None, 75, 75, 64)        0         \n",
      "_________________________________________________________________\n",
      "block2_conv1 (Conv2D)        (None, 75, 75, 128)       73856     \n",
      "_________________________________________________________________\n",
      "block2_conv2 (Conv2D)        (None, 75, 75, 128)       147584    \n",
      "_________________________________________________________________\n",
      "block2_pool (MaxPooling2D)   (None, 37, 37, 128)       0         \n",
      "_________________________________________________________________\n",
      "block3_conv1 (Conv2D)        (None, 37, 37, 256)       295168    \n",
      "_________________________________________________________________\n",
      "block3_conv2 (Conv2D)        (None, 37, 37, 256)       590080    \n",
      "_________________________________________________________________\n",
      "block3_conv3 (Conv2D)        (None, 37, 37, 256)       590080    \n",
      "_________________________________________________________________\n",
      "block3_pool (MaxPooling2D)   (None, 18, 18, 256)       0         \n",
      "_________________________________________________________________\n",
      "block4_conv1 (Conv2D)        (None, 18, 18, 512)       1180160   \n",
      "_________________________________________________________________\n",
      "block4_conv2 (Conv2D)        (None, 18, 18, 512)       2359808   \n",
      "_________________________________________________________________\n",
      "block4_conv3 (Conv2D)        (None, 18, 18, 512)       2359808   \n",
      "_________________________________________________________________\n",
      "block4_pool (MaxPooling2D)   (None, 9, 9, 512)         0         \n",
      "_________________________________________________________________\n",
      "block5_conv1 (Conv2D)        (None, 9, 9, 512)         2359808   \n",
      "_________________________________________________________________\n",
      "block5_conv2 (Conv2D)        (None, 9, 9, 512)         2359808   \n",
      "_________________________________________________________________\n",
      "block5_conv3 (Conv2D)        (None, 9, 9, 512)         2359808   \n",
      "_________________________________________________________________\n",
      "block5_pool (MaxPooling2D)   (None, 4, 4, 512)         0         \n",
      "=================================================================\n",
      "Total params: 14,714,688\n",
      "Trainable params: 14,714,688\n",
      "Non-trainable params: 0\n",
      "_________________________________________________________________\n"
     ]
    }
   ],
   "source": [
    "conv_base.summary()\n"
   ]
  },
  {
   "cell_type": "code",
   "execution_count": null,
   "metadata": {
    "id": "BFEDG3WkJYPd"
   },
   "outputs": [],
   "source": [
    "datagen = ImageDataGenerator(rescale=1./255)\n",
    "batch_size = 8\n",
    "num_of_categories = 3\n",
    "\n",
    "def extract_features(directory, sample_count):\n",
    "    features = np.zeros(shape=(sample_count, 4, 4, 512)) \n",
    "    labels = np.zeros(shape=(sample_count, num_of_categories)) \n",
    "    generator = datagen.flow_from_directory(\n",
    "        directory, \n",
    "        target_size=(150, 150), \n",
    "        batch_size=batch_size, \n",
    "        class_mode='categorical', \n",
    "        shuffle=False)\n",
    "    i=0\n",
    "    for inputs_batch, labels_batch in generator:\n",
    "        features_batch = conv_base.predict(inputs_batch)\n",
    "        features[i * batch_size : (i + 1) * batch_size] = features_batch \n",
    "        labels[i * batch_size : (i + 1) * batch_size] = labels_batch\n",
    "        i += 1\n",
    "        if i * batch_size >= sample_count:\n",
    "            break\n",
    "    return features, labels, generator \n"
   ]
  },
  {
   "cell_type": "code",
   "execution_count": null,
   "metadata": {
    "colab": {
     "base_uri": "https://localhost:8080/"
    },
    "executionInfo": {
     "elapsed": 2486127,
     "status": "ok",
     "timestamp": 1623174241751,
     "user": {
      "displayName": "caroline shi",
      "photoUrl": "https://lh3.googleusercontent.com/a-/AOh14Gh0UvgeQ-e1aTotF83kgNe-IlqcX7-2TuedHOI1zA=s64",
      "userId": "15004570275929463310"
     },
     "user_tz": 420
    },
    "id": "FHtTo7uZeJZA",
    "outputId": "e512502b-e7aa-431e-a14a-0c8fc1db3b67"
   },
   "outputs": [
    {
     "name": "stdout",
     "output_type": "stream",
     "text": [
      "Found 4809 images belonging to 3 classes.\n",
      "Found 600 images belonging to 3 classes.\n",
      "Found 600 images belonging to 3 classes.\n"
     ]
    }
   ],
   "source": [
    "train_features, train_labels = extract_features(train_dir, 4809)\n",
    "validation_features, validation_labels = extract_features(validation_dir, 600)\n",
    "test_features, test_labels = extract_features(test_dir, 600)"
   ]
  },
  {
   "cell_type": "code",
   "execution_count": null,
   "metadata": {
    "id": "Fc16QegnZ4dF"
   },
   "outputs": [],
   "source": [
    "train_features = np.reshape(train_features, (4809, 4 * 4 * 512))\n",
    "validation_features = np.reshape(validation_features, (600, 4 * 4 * 512))\n",
    "test_features = np.reshape(test_features, (600, 4 * 4 * 512))"
   ]
  },
  {
   "cell_type": "code",
   "execution_count": null,
   "metadata": {
    "id": "hKc0ZBRtiqSD"
   },
   "outputs": [],
   "source": [
    "es = EarlyStopping(monitor='val_loss', mode='min', verbose=1, patience=5)"
   ]
  },
  {
   "cell_type": "code",
   "execution_count": null,
   "metadata": {
    "colab": {
     "base_uri": "https://localhost:8080/"
    },
    "executionInfo": {
     "elapsed": 162194,
     "status": "ok",
     "timestamp": 1623174442595,
     "user": {
      "displayName": "caroline shi",
      "photoUrl": "https://lh3.googleusercontent.com/a-/AOh14Gh0UvgeQ-e1aTotF83kgNe-IlqcX7-2TuedHOI1zA=s64",
      "userId": "15004570275929463310"
     },
     "user_tz": 420
    },
    "id": "obr9HdtYKCe1",
    "outputId": "3b67e07e-3a5e-49a0-ebdb-4f6a71bdc2cf"
   },
   "outputs": [
    {
     "name": "stdout",
     "output_type": "stream",
     "text": [
      "Epoch 1/70\n",
      "69/69 [==============================] - 14s 37ms/step - loss: 1.1438 - acc: 0.4664 - val_loss: 0.7354 - val_acc: 0.6717\n",
      "Epoch 2/70\n",
      "69/69 [==============================] - 2s 32ms/step - loss: 0.6658 - acc: 0.7265 - val_loss: 0.5472 - val_acc: 0.7817\n",
      "Epoch 3/70\n",
      "69/69 [==============================] - 2s 31ms/step - loss: 0.5120 - acc: 0.7901 - val_loss: 0.5481 - val_acc: 0.7650\n",
      "Epoch 4/70\n",
      "69/69 [==============================] - 2s 31ms/step - loss: 0.4395 - acc: 0.8204 - val_loss: 0.5261 - val_acc: 0.7967\n",
      "Epoch 5/70\n",
      "69/69 [==============================] - 2s 31ms/step - loss: 0.3829 - acc: 0.8455 - val_loss: 0.6145 - val_acc: 0.7700\n",
      "Epoch 6/70\n",
      "69/69 [==============================] - 2s 31ms/step - loss: 0.3315 - acc: 0.8759 - val_loss: 0.5094 - val_acc: 0.8100\n",
      "Epoch 7/70\n",
      "69/69 [==============================] - 2s 32ms/step - loss: 0.2639 - acc: 0.9001 - val_loss: 0.6047 - val_acc: 0.7633\n",
      "Epoch 8/70\n",
      "69/69 [==============================] - 2s 32ms/step - loss: 0.2496 - acc: 0.9071 - val_loss: 0.6154 - val_acc: 0.7950\n",
      "Epoch 9/70\n",
      "69/69 [==============================] - 2s 31ms/step - loss: 0.2174 - acc: 0.9132 - val_loss: 0.5506 - val_acc: 0.8100\n",
      "Epoch 10/70\n",
      "69/69 [==============================] - 2s 31ms/step - loss: 0.1920 - acc: 0.9215 - val_loss: 0.5757 - val_acc: 0.8083\n",
      "Epoch 11/70\n",
      "69/69 [==============================] - 2s 31ms/step - loss: 0.1462 - acc: 0.9424 - val_loss: 0.6361 - val_acc: 0.8150\n",
      "Epoch 12/70\n",
      "69/69 [==============================] - 2s 31ms/step - loss: 0.1265 - acc: 0.9518 - val_loss: 0.6007 - val_acc: 0.8000\n",
      "Epoch 13/70\n",
      "69/69 [==============================] - 2s 30ms/step - loss: 0.1195 - acc: 0.9561 - val_loss: 0.6355 - val_acc: 0.8100\n",
      "Epoch 14/70\n",
      "69/69 [==============================] - 2s 30ms/step - loss: 0.1099 - acc: 0.9621 - val_loss: 0.7562 - val_acc: 0.7967\n",
      "Epoch 15/70\n",
      "69/69 [==============================] - 2s 31ms/step - loss: 0.1110 - acc: 0.9572 - val_loss: 0.8094 - val_acc: 0.8000\n",
      "Epoch 16/70\n",
      "69/69 [==============================] - 2s 31ms/step - loss: 0.0780 - acc: 0.9714 - val_loss: 0.8168 - val_acc: 0.8200\n",
      "Epoch 17/70\n",
      "69/69 [==============================] - 2s 31ms/step - loss: 0.1026 - acc: 0.9630 - val_loss: 0.6986 - val_acc: 0.8117\n",
      "Epoch 18/70\n",
      "69/69 [==============================] - 2s 32ms/step - loss: 0.0999 - acc: 0.9616 - val_loss: 0.9248 - val_acc: 0.7750\n",
      "Epoch 19/70\n",
      "69/69 [==============================] - 2s 31ms/step - loss: 0.0820 - acc: 0.9683 - val_loss: 0.9851 - val_acc: 0.7950\n",
      "Epoch 20/70\n",
      "69/69 [==============================] - 2s 31ms/step - loss: 0.0929 - acc: 0.9639 - val_loss: 0.8802 - val_acc: 0.8000\n",
      "Epoch 21/70\n",
      "69/69 [==============================] - 2s 31ms/step - loss: 0.0686 - acc: 0.9725 - val_loss: 0.8482 - val_acc: 0.7950\n",
      "Epoch 22/70\n",
      "69/69 [==============================] - 2s 32ms/step - loss: 0.0962 - acc: 0.9630 - val_loss: 0.8039 - val_acc: 0.8033\n",
      "Epoch 23/70\n",
      "69/69 [==============================] - 2s 31ms/step - loss: 0.0742 - acc: 0.9747 - val_loss: 0.8581 - val_acc: 0.8100\n",
      "Epoch 24/70\n",
      "69/69 [==============================] - 2s 31ms/step - loss: 0.0670 - acc: 0.9742 - val_loss: 0.8610 - val_acc: 0.7983\n",
      "Epoch 25/70\n",
      "69/69 [==============================] - 2s 30ms/step - loss: 0.0878 - acc: 0.9677 - val_loss: 1.0001 - val_acc: 0.8050\n",
      "Epoch 26/70\n",
      "69/69 [==============================] - 2s 31ms/step - loss: 0.0686 - acc: 0.9718 - val_loss: 0.9645 - val_acc: 0.8000\n",
      "Epoch 27/70\n",
      "69/69 [==============================] - 2s 32ms/step - loss: 0.0624 - acc: 0.9791 - val_loss: 0.9573 - val_acc: 0.8000\n",
      "Epoch 28/70\n",
      "69/69 [==============================] - 2s 32ms/step - loss: 0.0600 - acc: 0.9764 - val_loss: 0.9985 - val_acc: 0.8000\n",
      "Epoch 29/70\n",
      "69/69 [==============================] - 2s 32ms/step - loss: 0.0607 - acc: 0.9794 - val_loss: 1.0344 - val_acc: 0.7867\n",
      "Epoch 30/70\n",
      "69/69 [==============================] - 2s 31ms/step - loss: 0.0588 - acc: 0.9774 - val_loss: 0.9262 - val_acc: 0.7800\n",
      "Epoch 31/70\n",
      "69/69 [==============================] - 2s 31ms/step - loss: 0.0737 - acc: 0.9756 - val_loss: 0.9156 - val_acc: 0.7900\n",
      "Epoch 32/70\n",
      "69/69 [==============================] - 2s 31ms/step - loss: 0.0586 - acc: 0.9808 - val_loss: 0.9507 - val_acc: 0.7883\n",
      "Epoch 33/70\n",
      "69/69 [==============================] - 2s 33ms/step - loss: 0.0626 - acc: 0.9770 - val_loss: 1.0884 - val_acc: 0.7950\n",
      "Epoch 34/70\n",
      "69/69 [==============================] - 2s 31ms/step - loss: 0.0474 - acc: 0.9823 - val_loss: 1.1427 - val_acc: 0.7850\n",
      "Epoch 35/70\n",
      "69/69 [==============================] - 2s 32ms/step - loss: 0.0536 - acc: 0.9783 - val_loss: 0.9945 - val_acc: 0.7900\n",
      "Epoch 36/70\n",
      "69/69 [==============================] - 2s 31ms/step - loss: 0.0633 - acc: 0.9779 - val_loss: 1.0495 - val_acc: 0.7800\n",
      "Epoch 37/70\n",
      "69/69 [==============================] - 2s 32ms/step - loss: 0.0511 - acc: 0.9803 - val_loss: 0.9222 - val_acc: 0.8033\n",
      "Epoch 38/70\n",
      "69/69 [==============================] - 2s 31ms/step - loss: 0.0581 - acc: 0.9799 - val_loss: 1.1030 - val_acc: 0.7850\n",
      "Epoch 39/70\n",
      "69/69 [==============================] - 2s 31ms/step - loss: 0.0531 - acc: 0.9821 - val_loss: 1.0327 - val_acc: 0.7767\n",
      "Epoch 40/70\n",
      "69/69 [==============================] - 2s 31ms/step - loss: 0.0568 - acc: 0.9807 - val_loss: 1.0155 - val_acc: 0.7950\n",
      "Epoch 41/70\n",
      "69/69 [==============================] - 2s 30ms/step - loss: 0.0507 - acc: 0.9816 - val_loss: 0.9473 - val_acc: 0.8117\n",
      "Epoch 42/70\n",
      "69/69 [==============================] - 2s 31ms/step - loss: 0.0333 - acc: 0.9881 - val_loss: 1.2237 - val_acc: 0.8017\n",
      "Epoch 43/70\n",
      "69/69 [==============================] - 2s 30ms/step - loss: 0.0204 - acc: 0.9936 - val_loss: 1.2193 - val_acc: 0.8083\n",
      "Epoch 44/70\n",
      "69/69 [==============================] - 2s 32ms/step - loss: 0.0256 - acc: 0.9900 - val_loss: 1.2293 - val_acc: 0.8067\n",
      "Epoch 45/70\n",
      "69/69 [==============================] - 2s 31ms/step - loss: 0.0293 - acc: 0.9877 - val_loss: 1.1780 - val_acc: 0.8050\n",
      "Epoch 46/70\n",
      "69/69 [==============================] - 2s 31ms/step - loss: 0.0563 - acc: 0.9784 - val_loss: 1.0717 - val_acc: 0.8050\n",
      "Epoch 47/70\n",
      "69/69 [==============================] - 2s 31ms/step - loss: 0.0318 - acc: 0.9885 - val_loss: 1.1989 - val_acc: 0.8083\n",
      "Epoch 48/70\n",
      "69/69 [==============================] - 2s 31ms/step - loss: 0.0364 - acc: 0.9870 - val_loss: 1.1106 - val_acc: 0.8150\n",
      "Epoch 49/70\n",
      "69/69 [==============================] - 2s 30ms/step - loss: 0.0310 - acc: 0.9892 - val_loss: 0.9852 - val_acc: 0.8117\n",
      "Epoch 50/70\n",
      "69/69 [==============================] - 2s 30ms/step - loss: 0.0430 - acc: 0.9850 - val_loss: 1.0077 - val_acc: 0.8233\n",
      "Epoch 51/70\n",
      "69/69 [==============================] - 2s 31ms/step - loss: 0.0272 - acc: 0.9886 - val_loss: 1.2412 - val_acc: 0.8117\n",
      "Epoch 52/70\n",
      "69/69 [==============================] - 2s 31ms/step - loss: 0.0520 - acc: 0.9824 - val_loss: 1.1022 - val_acc: 0.8067\n",
      "Epoch 53/70\n",
      "69/69 [==============================] - 2s 31ms/step - loss: 0.0776 - acc: 0.9710 - val_loss: 1.0754 - val_acc: 0.8083\n",
      "Epoch 54/70\n",
      "69/69 [==============================] - 2s 31ms/step - loss: 0.0395 - acc: 0.9848 - val_loss: 1.1660 - val_acc: 0.8117\n",
      "Epoch 55/70\n",
      "69/69 [==============================] - 2s 32ms/step - loss: 0.0214 - acc: 0.9922 - val_loss: 1.1623 - val_acc: 0.7983\n",
      "Epoch 56/70\n",
      "69/69 [==============================] - 2s 31ms/step - loss: 0.0230 - acc: 0.9913 - val_loss: 1.2375 - val_acc: 0.8067\n",
      "Epoch 57/70\n",
      "69/69 [==============================] - 2s 31ms/step - loss: 0.0245 - acc: 0.9905 - val_loss: 0.9437 - val_acc: 0.7983\n",
      "Epoch 58/70\n",
      "69/69 [==============================] - 2s 31ms/step - loss: 0.0481 - acc: 0.9849 - val_loss: 1.1190 - val_acc: 0.8000\n",
      "Epoch 59/70\n",
      "69/69 [==============================] - 2s 31ms/step - loss: 0.0483 - acc: 0.9825 - val_loss: 1.1804 - val_acc: 0.8133\n",
      "Epoch 60/70\n",
      "69/69 [==============================] - 2s 30ms/step - loss: 0.0260 - acc: 0.9909 - val_loss: 1.3424 - val_acc: 0.7883\n",
      "Epoch 61/70\n",
      "69/69 [==============================] - 2s 31ms/step - loss: 0.0255 - acc: 0.9904 - val_loss: 1.4292 - val_acc: 0.8100\n",
      "Epoch 62/70\n",
      "69/69 [==============================] - 2s 31ms/step - loss: 0.0402 - acc: 0.9848 - val_loss: 1.2397 - val_acc: 0.8050\n",
      "Epoch 63/70\n",
      "69/69 [==============================] - 2s 31ms/step - loss: 0.0361 - acc: 0.9865 - val_loss: 1.1345 - val_acc: 0.7983\n",
      "Epoch 64/70\n",
      "69/69 [==============================] - 2s 31ms/step - loss: 0.0453 - acc: 0.9831 - val_loss: 1.1047 - val_acc: 0.8200\n",
      "Epoch 65/70\n",
      "69/69 [==============================] - 2s 31ms/step - loss: 0.0310 - acc: 0.9889 - val_loss: 1.2064 - val_acc: 0.7983\n",
      "Epoch 66/70\n",
      "69/69 [==============================] - 2s 31ms/step - loss: 0.0476 - acc: 0.9853 - val_loss: 1.2430 - val_acc: 0.8100\n",
      "Epoch 67/70\n",
      "69/69 [==============================] - 2s 31ms/step - loss: 0.0408 - acc: 0.9844 - val_loss: 1.1988 - val_acc: 0.8067\n",
      "Epoch 68/70\n",
      "69/69 [==============================] - 2s 32ms/step - loss: 0.0226 - acc: 0.9923 - val_loss: 1.0896 - val_acc: 0.8100\n",
      "Epoch 69/70\n",
      "69/69 [==============================] - 2s 31ms/step - loss: 0.0378 - acc: 0.9828 - val_loss: 1.2622 - val_acc: 0.8033\n",
      "Epoch 70/70\n",
      "69/69 [==============================] - 2s 31ms/step - loss: 0.0200 - acc: 0.9931 - val_loss: 1.4010 - val_acc: 0.8050\n"
     ]
    }
   ],
   "source": [
    "model = models.Sequential()\n",
    "model.add(layers.Dense(512, activation='relu', input_dim=4 * 4 * 512))\n",
    "model.add(layers.Dropout(0.2))\n",
    "\n",
    "model.add(layers.Dense(256, activation='relu'))\n",
    "model.add(layers.Dropout(0.2))\n",
    "\n",
    "model.add(layers.Dense(128, activation='relu'))\n",
    "model.add(layers.Dropout(0.2))\n",
    "\n",
    "model.add(layers.Dense(3, activation='softmax'))\n",
    "\n",
    "model.compile(optimizer='adam',\n",
    "              loss='categorical_crossentropy',\n",
    "              metrics=['acc'])\n",
    "\n",
    "history = model.fit(train_features, train_labels,\n",
    "                    epochs=70,\n",
    "                    batch_size=70,\n",
    "                    validation_data=(validation_features, validation_labels))"
   ]
  },
  {
   "cell_type": "code",
   "execution_count": null,
   "metadata": {
    "id": "Cqo5BFjrVHr7"
   },
   "outputs": [],
   "source": [
    "model.save('threeclass_transfer.h5')"
   ]
  },
  {
   "cell_type": "code",
   "execution_count": null,
   "metadata": {
    "colab": {
     "base_uri": "https://localhost:8080/",
     "height": 232
    },
    "executionInfo": {
     "elapsed": 135,
     "status": "error",
     "timestamp": 1623293640563,
     "user": {
      "displayName": "caroline shi",
      "photoUrl": "https://lh3.googleusercontent.com/a-/AOh14Gh0UvgeQ-e1aTotF83kgNe-IlqcX7-2TuedHOI1zA=s64",
      "userId": "15004570275929463310"
     },
     "user_tz": 420
    },
    "id": "YZ_D9fhNa46m",
    "outputId": "73c273c5-2451-40d3-9dc0-f12c190c19ec",
    "scrolled": true
   },
   "outputs": [],
   "source": [
    "acc = history.history['acc']\n",
    "val_acc = history.history['val_acc']\n",
    "loss = history.history['loss']\n",
    "val_loss = history.history['val_loss']\n",
    "\n",
    "epochs = range(len(acc))\n",
    "\n",
    "plt.plot(epochs, acc, 'bo', label='Training acc')\n",
    "plt.plot(epochs, val_acc, 'b', label='Validation acc')\n",
    "plt.title('Training and validation accuracy')\n",
    "plt.legend()\n",
    "\n",
    "plt.figure()\n",
    "\n",
    "plt.plot(epochs, loss, 'bo', label='Training loss')\n",
    "plt.plot(epochs, val_loss, 'b', label='Validation loss')\n",
    "plt.title('Training and validation loss')\n",
    "plt.legend()\n",
    "\n",
    "plt.show()"
   ]
  },
  {
   "cell_type": "code",
   "execution_count": null,
   "metadata": {
    "colab": {
     "base_uri": "https://localhost:8080/",
     "height": 232
    },
    "executionInfo": {
     "elapsed": 155,
     "status": "error",
     "timestamp": 1623288891626,
     "user": {
      "displayName": "caroline shi",
      "photoUrl": "https://lh3.googleusercontent.com/a-/AOh14Gh0UvgeQ-e1aTotF83kgNe-IlqcX7-2TuedHOI1zA=s64",
      "userId": "15004570275929463310"
     },
     "user_tz": 420
    },
    "id": "H-nTmUbaZERM",
    "outputId": "8aeed282-26d6-4387-c402-9f22516b43c3",
    "scrolled": true
   },
   "outputs": [],
   "source": [
    "pred_classes = model.predict_classes(validation_features, verbose=0)\n",
    "\n",
    "from numpy import argmax\n",
    "from keras.utils.np_utils import to_categorical\n",
    "\n",
    "pred = argmax(to_categorical(pred_classes, 3 ), axis=1)\n",
    "labels = argmax(validation_labels,axis=1)"
   ]
  },
  {
   "cell_type": "code",
   "execution_count": null,
   "metadata": {
    "colab": {
     "base_uri": "https://localhost:8080/"
    },
    "executionInfo": {
     "elapsed": 260,
     "status": "ok",
     "timestamp": 1623174949704,
     "user": {
      "displayName": "caroline shi",
      "photoUrl": "https://lh3.googleusercontent.com/a-/AOh14Gh0UvgeQ-e1aTotF83kgNe-IlqcX7-2TuedHOI1zA=s64",
      "userId": "15004570275929463310"
     },
     "user_tz": 420
    },
    "id": "DUYJyVsrwfV6",
    "outputId": "71280de4-a77f-4557-8223-50aaa9a49c9d"
   },
   "outputs": [
    {
     "name": "stdout",
     "output_type": "stream",
     "text": [
      "[[155  26  19]\n",
      " [ 12 169  19]\n",
      " [ 18  23 159]]\n",
      "              precision    recall  f1-score   support\n",
      "\n",
      "           0       0.84      0.78      0.81       200\n",
      "           1       0.78      0.84      0.81       200\n",
      "           2       0.81      0.80      0.80       200\n",
      "\n",
      "    accuracy                           0.81       600\n",
      "   macro avg       0.81      0.81      0.80       600\n",
      "weighted avg       0.81      0.81      0.80       600\n",
      "\n"
     ]
    }
   ],
   "source": [
    "from sklearn.metrics import confusion_matrix, classification_report, accuracy_score\n",
    "\n",
    "print(confusion_matrix(labels, pred))\n",
    "print(classification_report(labels, pred))"
   ]
  },
  {
   "cell_type": "code",
   "execution_count": null,
   "metadata": {
    "colab": {
     "base_uri": "https://localhost:8080/",
     "height": 594
    },
    "executionInfo": {
     "elapsed": 996,
     "status": "ok",
     "timestamp": 1623185636405,
     "user": {
      "displayName": "caroline shi",
      "photoUrl": "https://lh3.googleusercontent.com/a-/AOh14Gh0UvgeQ-e1aTotF83kgNe-IlqcX7-2TuedHOI1zA=s64",
      "userId": "15004570275929463310"
     },
     "user_tz": 420
    },
    "id": "eGjDg1Lhwjhz",
    "outputId": "58022399-693e-4a26-d071-3ecbb64ce904"
   },
   "outputs": [
    {
     "data": {
      "image/png": "[encoded data removed]",
      "text/plain": [
       "<Figure size 900x600 with 2 Axes>"
      ]
     },
     "metadata": {
      "tags": []
     },
     "output_type": "display_data"
    }
   ],
   "source": [
    "vgg_confusion = confusion_matrix(labels, pred)\n",
    "plt.figure(dpi=150)\n",
    "sns.heatmap(vgg_confusion, cmap=plt.cm.Blues, annot=True, square=True, fmt='d',\n",
    "           xticklabels=['imp', 'neo', 'sur'],\n",
    "           yticklabels=['imp', 'neo', 'sur']);\n",
    "\n",
    "plt.xlabel('Predicted art periods')\n",
    "plt.ylabel('Actual art periods')\n",
    "plt.title('VGG16 with feature extraction confusion matrix');"
   ]
  },
  {
   "cell_type": "markdown",
   "metadata": {},
   "source": [
    "## Trying model out with a fresh image set"
   ]
  },
  {
   "cell_type": "code",
   "execution_count": null,
   "metadata": {
    "id": "7epcxA7OZZMM"
   },
   "outputs": [],
   "source": [
    "model = keras.models.load_model('/content/drive/MyDrive/expanded_threeclass_transfer.h5')"
   ]
  },
  {
   "cell_type": "code",
   "execution_count": null,
   "metadata": {
    "id": "R0dHM1jnnnsg"
   },
   "outputs": [],
   "source": [
    "test_dir = '/content/drive/MyDrive/testmodel'"
   ]
  },
  {
   "cell_type": "code",
   "execution_count": null,
   "metadata": {
    "colab": {
     "base_uri": "https://localhost:8080/"
    },
    "executionInfo": {
     "elapsed": 10268,
     "status": "ok",
     "timestamp": 1623341821598,
     "user": {
      "displayName": "caroline shi",
      "photoUrl": "https://lh3.googleusercontent.com/a-/AOh14Gh0UvgeQ-e1aTotF83kgNe-IlqcX7-2TuedHOI1zA=s64",
      "userId": "15004570275929463310"
     },
     "user_tz": 420
    },
    "id": "PoPeoZsMqoZy",
    "outputId": "1d5896fc-93d3-4565-91de-043279fe2b1c"
   },
   "outputs": [
    {
     "name": "stdout",
     "output_type": "stream",
     "text": [
      "Found 8 images belonging to 3 classes.\n"
     ]
    }
   ],
   "source": [
    "test_features, test_labels, test_generator = extract_features(test_dir, 8)"
   ]
  },
  {
   "cell_type": "code",
   "execution_count": null,
   "metadata": {
    "id": "H8n1NvcEqvDQ"
   },
   "outputs": [],
   "source": [
    "test_features = np.reshape(test_features, (8, 4 * 4 * 512))"
   ]
  },
  {
   "cell_type": "code",
   "execution_count": null,
   "metadata": {
    "colab": {
     "base_uri": "https://localhost:8080/"
    },
    "executionInfo": {
     "elapsed": 7471,
     "status": "ok",
     "timestamp": 1623341832103,
     "user": {
      "displayName": "caroline shi",
      "photoUrl": "https://lh3.googleusercontent.com/a-/AOh14Gh0UvgeQ-e1aTotF83kgNe-IlqcX7-2TuedHOI1zA=s64",
      "userId": "15004570275929463310"
     },
     "user_tz": 420
    },
    "id": "EWQtjf24q9zH",
    "outputId": "16513ea7-cef1-47e2-adff-2cf7575eb6eb"
   },
   "outputs": [
    {
     "name": "stderr",
     "output_type": "stream",
     "text": [
      "/usr/local/lib/python3.7/dist-packages/keras/engine/sequential.py:450: UserWarning: `model.predict_classes()` is deprecated and will be removed after 2021-01-01. Please use instead:* `np.argmax(model.predict(x), axis=-1)`,   if your model does multi-class classification   (e.g. if it uses a `softmax` last-layer activation).* `(model.predict(x) > 0.5).astype(\"int32\")`,   if your model does binary classification   (e.g. if it uses a `sigmoid` last-layer activation).\n",
      "  warnings.warn('`model.predict_classes()` is deprecated and '\n"
     ]
    }
   ],
   "source": [
    "from numpy import argmax\n",
    "from keras.utils.np_utils import to_categorical\n",
    "\n",
    "pred_classes = model.predict_classes(test_features, verbose=0)\n",
    "\n",
    "pred = argmax(to_categorical(pred_classes, 3), axis=1)\n",
    "labels = argmax(test_labels,axis=1)"
   ]
  },
  {
   "cell_type": "code",
   "execution_count": null,
   "metadata": {
    "colab": {
     "base_uri": "https://localhost:8080/"
    },
    "executionInfo": {
     "elapsed": 14,
     "status": "ok",
     "timestamp": 1623341832104,
     "user": {
      "displayName": "caroline shi",
      "photoUrl": "https://lh3.googleusercontent.com/a-/AOh14Gh0UvgeQ-e1aTotF83kgNe-IlqcX7-2TuedHOI1zA=s64",
      "userId": "15004570275929463310"
     },
     "user_tz": 420
    },
    "id": "FncevwqMr1Yi",
    "outputId": "c951015e-58da-424d-d616-0dfdd5176c2a"
   },
   "outputs": [
    {
     "data": {
      "text/plain": [
       "array([0, 0, 0, 1, 1, 1, 1, 2])"
      ]
     },
     "execution_count": 14,
     "metadata": {
      "tags": []
     },
     "output_type": "execute_result"
    }
   ],
   "source": [
    "pred"
   ]
  },
  {
   "cell_type": "code",
   "execution_count": null,
   "metadata": {
    "colab": {
     "base_uri": "https://localhost:8080/"
    },
    "executionInfo": {
     "elapsed": 3,
     "status": "ok",
     "timestamp": 1623341833603,
     "user": {
      "displayName": "caroline shi",
      "photoUrl": "https://lh3.googleusercontent.com/a-/AOh14Gh0UvgeQ-e1aTotF83kgNe-IlqcX7-2TuedHOI1zA=s64",
      "userId": "15004570275929463310"
     },
     "user_tz": 420
    },
    "id": "sluwH-7psZ-h",
    "outputId": "0ebe6fc4-722f-40a7-d784-5f712c81f8b5"
   },
   "outputs": [
    {
     "data": {
      "text/plain": [
       "array([0, 0, 0, 1, 1, 1, 2, 2])"
      ]
     },
     "execution_count": 15,
     "metadata": {
      "tags": []
     },
     "output_type": "execute_result"
    }
   ],
   "source": [
    "labels "
   ]
  },
  {
   "cell_type": "code",
   "execution_count": null,
   "metadata": {
    "colab": {
     "base_uri": "https://localhost:8080/"
    },
    "executionInfo": {
     "elapsed": 272,
     "status": "ok",
     "timestamp": 1623341836697,
     "user": {
      "displayName": "caroline shi",
      "photoUrl": "https://lh3.googleusercontent.com/a-/AOh14Gh0UvgeQ-e1aTotF83kgNe-IlqcX7-2TuedHOI1zA=s64",
      "userId": "15004570275929463310"
     },
     "user_tz": 420
    },
    "id": "R8V-5Dx80A-d",
    "outputId": "eacef63b-1ba4-4673-eb44-f05448a2c16a"
   },
   "outputs": [
    {
     "data": {
      "text/plain": [
       "['impressionism/caillebotte.jpeg',\n",
       " 'impressionism/monet.jpeg',\n",
       " 'impressionism/monethaystacks.jpeg',\n",
       " 'neoclassicism/david.jpeg',\n",
       " 'neoclassicism/fragonard.jpeg',\n",
       " 'neoclassicism/napoleon.jpeg',\n",
       " 'surrealism/dali.jpeg',\n",
       " 'surrealism/dali2.jpeg']"
      ]
     },
     "execution_count": 16,
     "metadata": {
      "tags": []
     },
     "output_type": "execute_result"
    }
   ],
   "source": [
    "test_generator.filenames"
   ]
  },
  {
   "cell_type": "code",
   "execution_count": null,
   "metadata": {
    "colab": {
     "base_uri": "https://localhost:8080/"
    },
    "executionInfo": {
     "elapsed": 2,
     "status": "ok",
     "timestamp": 1623341837817,
     "user": {
      "displayName": "caroline shi",
      "photoUrl": "https://lh3.googleusercontent.com/a-/AOh14Gh0UvgeQ-e1aTotF83kgNe-IlqcX7-2TuedHOI1zA=s64",
      "userId": "15004570275929463310"
     },
     "user_tz": 420
    },
    "id": "Y3mS0tz7vYxY",
    "outputId": "bc5a19e9-3053-4402-d0c5-fa26dbd0a467"
   },
   "outputs": [
    {
     "data": {
      "text/plain": [
       "{'impressionism': 0, 'neoclassicism': 1, 'surrealism': 2}"
      ]
     },
     "execution_count": 17,
     "metadata": {
      "tags": []
     },
     "output_type": "execute_result"
    }
   ],
   "source": [
    "test_generator.class_indices"
   ]
  }
 ],
 "metadata": {
  "colab": {
   "authorship_tag": "ABX9TyMijaco3hwjOXZzKhDI4Ops",
   "collapsed_sections": [],
   "mount_file_id": "1h2HkDTn2cPufHa3yDAfBELiTd4rldcYE",
   "name": "THREECLASS--MOREDATA.ipynb",
   "provenance": []
  },
  "kernelspec": {
   "display_name": "Python 3",
   "language": "python",
   "name": "python3"
  },
  "language_info": {
   "codemirror_mode": {
    "name": "ipython",
    "version": 3
   },
   "file_extension": ".py",
   "mimetype": "text/x-python",
   "name": "python",
   "nbconvert_exporter": "python",
   "pygments_lexer": "ipython3",
   "version": "3.8.5"
  }
 },
 "nbformat": 4,
 "nbformat_minor": 1
}
