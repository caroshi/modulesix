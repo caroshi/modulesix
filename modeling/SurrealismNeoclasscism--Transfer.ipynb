{
 "cells": [
  {
   "cell_type": "code",
   "execution_count": 23,
   "metadata": {
    "executionInfo": {
     "elapsed": 128,
     "status": "ok",
     "timestamp": 1623091887609,
     "user": {
      "displayName": "caroline shi",
      "photoUrl": "https://lh3.googleusercontent.com/a-/AOh14Gh0UvgeQ-e1aTotF83kgNe-IlqcX7-2TuedHOI1zA=s64",
      "userId": "15004570275929463310"
     },
     "user_tz": 420
    },
    "id": "Z4EwW2nxH51J"
   },
   "outputs": [],
   "source": [
    "import pandas as pd\n",
    "import numpy as np\n",
    "\n",
    "import keras\n",
    "from keras.preprocessing.image import ImageDataGenerator, image\n",
    "from keras.applications import mobilenet_v2\n",
    "from keras import layers\n",
    "from keras import models\n",
    "from tensorflow.keras.models import Sequential, Model\n",
    "from keras import optimizers\n",
    "from keras.layers import Dense, Conv2D, MaxPooling2D, Flatten, Dropout, InputLayer\n",
    "from tensorflow.keras.callbacks import EarlyStopping\n",
    "from tensorflow.keras.optimizers import Adam\n",
    "\n",
    "import math\n",
    "from sklearn.metrics import confusion_matrix, classification_report\n",
    "\n",
    "import glob\n",
    "import os\n",
    "from pathlib import Path\n",
    "import shutil\n",
    "\n",
    "import seaborn as sns\n",
    "import matplotlib.pyplot as plt\n",
    "%matplotlib inline"
   ]
  },
  {
   "cell_type": "code",
   "execution_count": 2,
   "metadata": {
    "colab": {
     "base_uri": "https://localhost:8080/"
    },
    "executionInfo": {
     "elapsed": 15841,
     "status": "ok",
     "timestamp": 1623088578637,
     "user": {
      "displayName": "caroline shi",
      "photoUrl": "https://lh3.googleusercontent.com/a-/AOh14Gh0UvgeQ-e1aTotF83kgNe-IlqcX7-2TuedHOI1zA=s64",
      "userId": "15004570275929463310"
     },
     "user_tz": 420
    },
    "id": "3TrPt0HYxz-I",
    "outputId": "79417040-aefa-4b2b-8a72-85ccc68998bc"
   },
   "outputs": [
    {
     "name": "stdout",
     "output_type": "stream",
     "text": [
      "Mounted at /content/drive\n"
     ]
    }
   ],
   "source": [
    "from google.colab import drive\n",
    "drive.mount('/content/drive')"
   ]
  },
  {
   "cell_type": "code",
   "execution_count": 3,
   "metadata": {
    "executionInfo": {
     "elapsed": 124,
     "status": "ok",
     "timestamp": 1623088580337,
     "user": {
      "displayName": "caroline shi",
      "photoUrl": "https://lh3.googleusercontent.com/a-/AOh14Gh0UvgeQ-e1aTotF83kgNe-IlqcX7-2TuedHOI1zA=s64",
      "userId": "15004570275929463310"
     },
     "user_tz": 420
    },
    "id": "7eHS3p8k0uZg"
   },
   "outputs": [],
   "source": [
    "train_dir = '/content/drive/MyDrive/modeltwo/train'\n",
    "validation_dir = '/content/drive/MyDrive/modeltwo/validation'\n",
    "test_dir = '/content/drive/MyDrive/modeltwo/test'"
   ]
  },
  {
   "cell_type": "code",
   "execution_count": 16,
   "metadata": {
    "executionInfo": {
     "elapsed": 1423,
     "status": "ok",
     "timestamp": 1623090370945,
     "user": {
      "displayName": "caroline shi",
      "photoUrl": "https://lh3.googleusercontent.com/a-/AOh14Gh0UvgeQ-e1aTotF83kgNe-IlqcX7-2TuedHOI1zA=s64",
      "userId": "15004570275929463310"
     },
     "user_tz": 420
    },
    "id": "o1dOFiWgJMSW"
   },
   "outputs": [],
   "source": [
    "base_model = mobilenet_v2.MobileNetV2(weights='imagenet', include_top=False, input_shape=(224,224,3)) \n",
    " \n",
    "for layer in base_model.layers:\n",
    "    layer.trainable = False    \n",
    "\n",
    "x = base_model.output\n",
    "x = Flatten()(x) \n",
    "x = Dense(100, activation='relu')(x) \n",
    "x = Dense(50, activation='relu')(x)\n",
    "x = Dropout(0.2) (x)\n",
    "\n",
    "predictions = Dense(1, activation='sigmoid')(x) \n",
    "\n",
    "model = Model(base_model.input, predictions)\n",
    "model.compile(optimizer='adam', loss='binary_crossentropy', metrics=['accuracy'])"
   ]
  },
  {
   "cell_type": "code",
   "execution_count": 17,
   "metadata": {
    "colab": {
     "base_uri": "https://localhost:8080/"
    },
    "executionInfo": {
     "elapsed": 281,
     "status": "ok",
     "timestamp": 1623090372711,
     "user": {
      "displayName": "caroline shi",
      "photoUrl": "https://lh3.googleusercontent.com/a-/AOh14Gh0UvgeQ-e1aTotF83kgNe-IlqcX7-2TuedHOI1zA=s64",
      "userId": "15004570275929463310"
     },
     "user_tz": 420
    },
    "id": "9nIizz-xlWsC",
    "outputId": "b35d803b-3ec1-426b-dbcc-af39472a8e4d"
   },
   "outputs": [
    {
     "name": "stdout",
     "output_type": "stream",
     "text": [
      "Found 1200 images belonging to 2 classes.\n",
      "Found 400 images belonging to 2 classes.\n"
     ]
    }
   ],
   "source": [
    "train_datagen = ImageDataGenerator(rescale=1./255)\n",
    "val_datagen = ImageDataGenerator(rescale=1./255)\n",
    "\n",
    "train_generator = train_datagen.flow_from_directory(\n",
    "        train_dir,\n",
    "        target_size=(224,224),\n",
    "        batch_size=30,\n",
    "        class_mode='binary')\n",
    "\n",
    "validation_generator = val_datagen.flow_from_directory(\n",
    "        validation_dir,\n",
    "        target_size=(224, 224),\n",
    "        batch_size=20,\n",
    "        class_mode='binary')"
   ]
  },
  {
   "cell_type": "code",
   "execution_count": 28,
   "metadata": {
    "executionInfo": {
     "elapsed": 127,
     "status": "ok",
     "timestamp": 1623095228432,
     "user": {
      "displayName": "caroline shi",
      "photoUrl": "https://lh3.googleusercontent.com/a-/AOh14Gh0UvgeQ-e1aTotF83kgNe-IlqcX7-2TuedHOI1zA=s64",
      "userId": "15004570275929463310"
     },
     "user_tz": 420
    },
    "id": "GUtLcWWUz5Tw"
   },
   "outputs": [],
   "source": [
    "es = EarlyStopping(monitor='val_loss', mode='min', verbose=1, patience=5)"
   ]
  },
  {
   "cell_type": "code",
   "execution_count": 29,
   "metadata": {
    "colab": {
     "base_uri": "https://localhost:8080/"
    },
    "executionInfo": {
     "elapsed": 516855,
     "status": "ok",
     "timestamp": 1623095746281,
     "user": {
      "displayName": "caroline shi",
      "photoUrl": "https://lh3.googleusercontent.com/a-/AOh14Gh0UvgeQ-e1aTotF83kgNe-IlqcX7-2TuedHOI1zA=s64",
      "userId": "15004570275929463310"
     },
     "user_tz": 420
    },
    "id": "ED3z2NAzJYi4",
    "outputId": "10ae8527-f4e0-49dd-a939-035a3607a91c"
   },
   "outputs": [
    {
     "name": "stdout",
     "output_type": "stream",
     "text": [
      "Epoch 1/30\n",
      "20/20 [==============================] - 48s 2s/step - loss: 1.0830e-04 - accuracy: 1.0000 - val_loss: 0.6579 - val_accuracy: 0.9100\n",
      "Epoch 2/30\n",
      "20/20 [==============================] - 48s 2s/step - loss: 1.1801e-04 - accuracy: 1.0000 - val_loss: 0.6095 - val_accuracy: 0.9250\n",
      "Epoch 3/30\n",
      "20/20 [==============================] - 48s 2s/step - loss: 8.7522e-05 - accuracy: 1.0000 - val_loss: 0.9349 - val_accuracy: 0.8950\n",
      "Epoch 4/30\n",
      "20/20 [==============================] - 47s 2s/step - loss: 8.2393e-05 - accuracy: 1.0000 - val_loss: 0.6394 - val_accuracy: 0.9050\n",
      "Epoch 5/30\n",
      "20/20 [==============================] - 47s 2s/step - loss: 9.1850e-05 - accuracy: 1.0000 - val_loss: 0.4410 - val_accuracy: 0.9400\n",
      "Epoch 6/30\n",
      "20/20 [==============================] - 46s 2s/step - loss: 6.8614e-05 - accuracy: 1.0000 - val_loss: 0.4462 - val_accuracy: 0.9250\n",
      "Epoch 7/30\n",
      "20/20 [==============================] - 47s 2s/step - loss: 8.7629e-05 - accuracy: 1.0000 - val_loss: 0.7247 - val_accuracy: 0.9150\n",
      "Epoch 8/30\n",
      "20/20 [==============================] - 46s 2s/step - loss: 8.7328e-05 - accuracy: 1.0000 - val_loss: 0.5721 - val_accuracy: 0.9150\n",
      "Epoch 9/30\n",
      "20/20 [==============================] - 47s 2s/step - loss: 8.2224e-05 - accuracy: 1.0000 - val_loss: 0.5801 - val_accuracy: 0.9200\n",
      "Epoch 10/30\n",
      "20/20 [==============================] - 56s 3s/step - loss: 8.1328e-05 - accuracy: 1.0000 - val_loss: 0.6118 - val_accuracy: 0.9250\n",
      "Epoch 00010: early stopping\n"
     ]
    }
   ],
   "source": [
    "history = model.fit(train_generator, steps_per_epoch=20, \n",
    "                    validation_data=validation_generator,\n",
    "                    validation_steps=10,\n",
    "                    epochs=30, \n",
    "                    callbacks= es) "
   ]
  },
  {
   "cell_type": "code",
   "execution_count": null,
   "metadata": {
    "id": "XRsPj8jCwcwy"
   },
   "outputs": [],
   "source": [
    "model.save('surneo_transfer.h5')\n"
   ]
  },
  {
   "cell_type": "code",
   "execution_count": null,
   "metadata": {
    "colab": {
     "base_uri": "https://localhost:8080/",
     "height": 545
    },
    "executionInfo": {
     "elapsed": 572,
     "status": "ok",
     "timestamp": 1623018794752,
     "user": {
      "displayName": "caroline shi",
      "photoUrl": "https://lh3.googleusercontent.com/a-/AOh14Gh0UvgeQ-e1aTotF83kgNe-IlqcX7-2TuedHOI1zA=s64",
      "userId": "15004570275929463310"
     },
     "user_tz": 420
    },
    "id": "YIhmyVgICGXT",
    "outputId": "07e9c8da-c63c-4e78-87fb-e5ca8c625d72"
   },
   "outputs": [
    {
     "data": {
      "image/png": "[encoded data removed]",
      "text/plain": [
       "<Figure size 432x288 with 1 Axes>"
      ]
     },
     "metadata": {
      "needs_background": "light",
      "tags": []
     },
     "output_type": "display_data"
    },
    {
     "data": {
      "image/png": "[encoded data removed]",
      "text/plain": [
       "<Figure size 432x288 with 1 Axes>"
      ]
     },
     "metadata": {
      "needs_background": "light",
      "tags": []
     },
     "output_type": "display_data"
    }
   ],
   "source": [
    "acc = history.history['acc']\n",
    "val_acc = history.history['val_acc']\n",
    "loss = history.history['loss']\n",
    "val_loss = history.history['val_loss']\n",
    "\n",
    "epochs = range(len(acc))\n",
    "\n",
    "plt.plot(epochs, acc, 'bo', label='Training acc')\n",
    "plt.plot(epochs, val_acc, 'b', label='Validation acc')\n",
    "plt.title('Training and validation accuracy')\n",
    "plt.legend()\n",
    "\n",
    "plt.figure()\n",
    "\n",
    "plt.plot(epochs, loss, 'bo', label='Training loss')\n",
    "plt.plot(epochs, val_loss, 'b', label='Validation loss')\n",
    "plt.title('Training and validation loss')\n",
    "plt.legend()\n",
    "\n",
    "plt.show()"
   ]
  },
  {
   "cell_type": "code",
   "execution_count": null,
   "metadata": {
    "id": "UxMAQo3eKir6"
   },
   "outputs": [],
   "source": [
    "prediction = model.predict_classes(validation_generator)\n",
    "\n",
    "print(confusion_matrix(validation_generator.labels, prediction))\n",
    "print(classification_report(validation_generator.labels, prediction))"
   ]
  }
 ],
 "metadata": {
  "colab": {
   "authorship_tag": "ABX9TyOW02cfo/wPqAP3xLkT2mgM",
   "collapsed_sections": [],
   "name": "Sur/Neo--Transfer.ipynb",
   "provenance": []
  },
  "kernelspec": {
   "display_name": "Python 3",
   "language": "python",
   "name": "python3"
  },
  "language_info": {
   "codemirror_mode": {
    "name": "ipython",
    "version": 3
   },
   "file_extension": ".py",
   "mimetype": "text/x-python",
   "name": "python",
   "nbconvert_exporter": "python",
   "pygments_lexer": "ipython3",
   "version": "3.8.5"
  }
 },
 "nbformat": 4,
 "nbformat_minor": 1
}
