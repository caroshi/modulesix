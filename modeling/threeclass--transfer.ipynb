{
 "cells": [
  {
   "cell_type": "code",
   "execution_count": 1,
   "metadata": {
    "executionInfo": {
     "elapsed": 3379,
     "status": "ok",
     "timestamp": 1623117295431,
     "user": {
      "displayName": "caroline shi",
      "photoUrl": "https://lh3.googleusercontent.com/a-/AOh14Gh0UvgeQ-e1aTotF83kgNe-IlqcX7-2TuedHOI1zA=s64",
      "userId": "15004570275929463310"
     },
     "user_tz": 420
    },
    "id": "Z4EwW2nxH51J"
   },
   "outputs": [],
   "source": [
    "import pandas as pd\n",
    "import numpy as np\n",
    "\n",
    "import keras\n",
    "from keras import layers\n",
    "from keras import models\n",
    "from keras import optimizers\n",
    "\n",
    "from keras.preprocessing.image import ImageDataGenerator, image\n",
    "from keras.applications import mobilenet_v2\n",
    "from keras.layers import Dense, Conv2D, MaxPooling2D, Flatten, Dropout, InputLayer\n",
    "from tensorflow.keras.callbacks import EarlyStopping\n",
    "from tensorflow.keras.optimizers import Adam\n",
    "from tensorflow.keras.applications import VGG16\n",
    "from tensorflow.keras.models import Sequential, Model\n",
    "\n",
    "import math\n",
    "from sklearn.metrics import confusion_matrix, classification_report\n",
    "\n",
    "import glob\n",
    "import os\n",
    "from pathlib import Path\n",
    "import shutil\n",
    "\n",
    "import seaborn as sns\n",
    "import matplotlib.pyplot as plt\n",
    "%matplotlib inline"
   ]
  },
  {
   "cell_type": "code",
   "execution_count": null,
   "metadata": {
    "colab": {
     "base_uri": "https://localhost:8080/",
     "height": 35
    },
    "executionInfo": {
     "elapsed": 171,
     "status": "ok",
     "timestamp": 1623097240088,
     "user": {
      "displayName": "caroline shi",
      "photoUrl": "https://lh3.googleusercontent.com/a-/AOh14Gh0UvgeQ-e1aTotF83kgNe-IlqcX7-2TuedHOI1zA=s64",
      "userId": "15004570275929463310"
     },
     "user_tz": 420
    },
    "id": "OGTvssOhImKL",
    "outputId": "bc2744a6-a265-4905-c4d4-00909c8e8838"
   },
   "outputs": [
    {
     "data": {
      "application/vnd.google.colaboratory.intrinsic+json": {
       "type": "string"
      },
      "text/plain": [
       "'2.5.0'"
      ]
     },
     "execution_count": 19,
     "metadata": {
      "tags": []
     },
     "output_type": "execute_result"
    }
   ],
   "source": [
    "keras.__version__"
   ]
  },
  {
   "cell_type": "code",
   "execution_count": 3,
   "metadata": {
    "colab": {
     "base_uri": "https://localhost:8080/"
    },
    "executionInfo": {
     "elapsed": 214,
     "status": "ok",
     "timestamp": 1623117338963,
     "user": {
      "displayName": "caroline shi",
      "photoUrl": "https://lh3.googleusercontent.com/a-/AOh14Gh0UvgeQ-e1aTotF83kgNe-IlqcX7-2TuedHOI1zA=s64",
      "userId": "15004570275929463310"
     },
     "user_tz": 420
    },
    "id": "3TrPt0HYxz-I",
    "outputId": "6f85d721-fa9c-4266-be17-48e48b7e5a4d"
   },
   "outputs": [
    {
     "name": "stdout",
     "output_type": "stream",
     "text": [
      "Drive already mounted at /content/drive; to attempt to forcibly remount, call drive.mount(\"/content/drive\", force_remount=True).\n"
     ]
    }
   ],
   "source": [
    "from google.colab import drive\n",
    "drive.mount('/content/drive')"
   ]
  },
  {
   "cell_type": "code",
   "execution_count": 4,
   "metadata": {
    "executionInfo": {
     "elapsed": 213,
     "status": "ok",
     "timestamp": 1623117346188,
     "user": {
      "displayName": "caroline shi",
      "photoUrl": "https://lh3.googleusercontent.com/a-/AOh14Gh0UvgeQ-e1aTotF83kgNe-IlqcX7-2TuedHOI1zA=s64",
      "userId": "15004570275929463310"
     },
     "user_tz": 420
    },
    "id": "7eHS3p8k0uZg"
   },
   "outputs": [],
   "source": [
    "train_dir = '/content/drive/MyDrive/threeclass/train'\n",
    "validation_dir = '/content/drive/MyDrive/threeclass/validation'\n",
    "test_dir = '/content/drive/MyDrive/threeclass/test'"
   ]
  },
  {
   "cell_type": "code",
   "execution_count": 5,
   "metadata": {
    "colab": {
     "base_uri": "https://localhost:8080/"
    },
    "executionInfo": {
     "elapsed": 1627,
     "status": "ok",
     "timestamp": 1623117350330,
     "user": {
      "displayName": "caroline shi",
      "photoUrl": "https://lh3.googleusercontent.com/a-/AOh14Gh0UvgeQ-e1aTotF83kgNe-IlqcX7-2TuedHOI1zA=s64",
      "userId": "15004570275929463310"
     },
     "user_tz": 420
    },
    "id": "brhfLuiSH45L",
    "outputId": "5f51b50b-05ca-489a-e103-be818ee5bf39"
   },
   "outputs": [
    {
     "name": "stdout",
     "output_type": "stream",
     "text": [
      "Downloading data from https://storage.googleapis.com/tensorflow/keras-applications/vgg16/vgg16_weights_tf_dim_ordering_tf_kernels_notop.h5\n",
      "58892288/58889256 [==============================] - 1s 0us/step\n"
     ]
    }
   ],
   "source": [
    "conv_base = VGG16(weights='imagenet',\n",
    "                  include_top=False,\n",
    "                  input_shape=(150, 150, 3))"
   ]
  },
  {
   "cell_type": "code",
   "execution_count": 6,
   "metadata": {
    "colab": {
     "base_uri": "https://localhost:8080/"
    },
    "executionInfo": {
     "elapsed": 156,
     "status": "ok",
     "timestamp": 1623117352939,
     "user": {
      "displayName": "caroline shi",
      "photoUrl": "https://lh3.googleusercontent.com/a-/AOh14Gh0UvgeQ-e1aTotF83kgNe-IlqcX7-2TuedHOI1zA=s64",
      "userId": "15004570275929463310"
     },
     "user_tz": 420
    },
    "id": "YQqxVHjkH6Zv",
    "outputId": "a15ad79a-1374-42d5-aa0f-07b145feaf0e"
   },
   "outputs": [
    {
     "name": "stdout",
     "output_type": "stream",
     "text": [
      "Model: \"vgg16\"\n",
      "_________________________________________________________________\n",
      "Layer (type)                 Output Shape              Param #   \n",
      "=================================================================\n",
      "input_1 (InputLayer)         [(None, 150, 150, 3)]     0         \n",
      "_________________________________________________________________\n",
      "block1_conv1 (Conv2D)        (None, 150, 150, 64)      1792      \n",
      "_________________________________________________________________\n",
      "block1_conv2 (Conv2D)        (None, 150, 150, 64)      36928     \n",
      "_________________________________________________________________\n",
      "block1_pool (MaxPooling2D)   (None, 75, 75, 64)        0         \n",
      "_________________________________________________________________\n",
      "block2_conv1 (Conv2D)        (None, 75, 75, 128)       73856     \n",
      "_________________________________________________________________\n",
      "block2_conv2 (Conv2D)        (None, 75, 75, 128)       147584    \n",
      "_________________________________________________________________\n",
      "block2_pool (MaxPooling2D)   (None, 37, 37, 128)       0         \n",
      "_________________________________________________________________\n",
      "block3_conv1 (Conv2D)        (None, 37, 37, 256)       295168    \n",
      "_________________________________________________________________\n",
      "block3_conv2 (Conv2D)        (None, 37, 37, 256)       590080    \n",
      "_________________________________________________________________\n",
      "block3_conv3 (Conv2D)        (None, 37, 37, 256)       590080    \n",
      "_________________________________________________________________\n",
      "block3_pool (MaxPooling2D)   (None, 18, 18, 256)       0         \n",
      "_________________________________________________________________\n",
      "block4_conv1 (Conv2D)        (None, 18, 18, 512)       1180160   \n",
      "_________________________________________________________________\n",
      "block4_conv2 (Conv2D)        (None, 18, 18, 512)       2359808   \n",
      "_________________________________________________________________\n",
      "block4_conv3 (Conv2D)        (None, 18, 18, 512)       2359808   \n",
      "_________________________________________________________________\n",
      "block4_pool (MaxPooling2D)   (None, 9, 9, 512)         0         \n",
      "_________________________________________________________________\n",
      "block5_conv1 (Conv2D)        (None, 9, 9, 512)         2359808   \n",
      "_________________________________________________________________\n",
      "block5_conv2 (Conv2D)        (None, 9, 9, 512)         2359808   \n",
      "_________________________________________________________________\n",
      "block5_conv3 (Conv2D)        (None, 9, 9, 512)         2359808   \n",
      "_________________________________________________________________\n",
      "block5_pool (MaxPooling2D)   (None, 4, 4, 512)         0         \n",
      "=================================================================\n",
      "Total params: 14,714,688\n",
      "Trainable params: 14,714,688\n",
      "Non-trainable params: 0\n",
      "_________________________________________________________________\n"
     ]
    }
   ],
   "source": [
    "conv_base.summary()\n"
   ]
  },
  {
   "cell_type": "code",
   "execution_count": 7,
   "metadata": {
    "colab": {
     "base_uri": "https://localhost:8080/"
    },
    "executionInfo": {
     "elapsed": 1746131,
     "status": "ok",
     "timestamp": 1623119117474,
     "user": {
      "displayName": "caroline shi",
      "photoUrl": "https://lh3.googleusercontent.com/a-/AOh14Gh0UvgeQ-e1aTotF83kgNe-IlqcX7-2TuedHOI1zA=s64",
      "userId": "15004570275929463310"
     },
     "user_tz": 420
    },
    "id": "BFEDG3WkJYPd",
    "outputId": "31d62365-adfc-4fa9-8ef6-c5e6a4c5cceb"
   },
   "outputs": [
    {
     "name": "stdout",
     "output_type": "stream",
     "text": [
      "Found 1799 images belonging to 3 classes.\n",
      "Found 600 images belonging to 3 classes.\n",
      "Found 600 images belonging to 3 classes.\n"
     ]
    }
   ],
   "source": [
    "datagen = ImageDataGenerator(rescale=1./255)\n",
    "batch_size = 30\n",
    "num_of_categories = 3\n",
    "\n",
    "def extract_features(directory, sample_count):\n",
    "    features = np.zeros(shape=(sample_count, 4, 4, 512)) \n",
    "    labels = np.zeros(shape=(sample_count, num_of_categories)) \n",
    "    generator = datagen.flow_from_directory(\n",
    "        directory, \n",
    "        target_size=(150, 150), \n",
    "        batch_size=batch_size, \n",
    "        class_mode='categorical')\n",
    "    i=0\n",
    "    for inputs_batch, labels_batch in generator:\n",
    "        features_batch = conv_base.predict(inputs_batch)\n",
    "        features[i * batch_size : (i + 1) * batch_size] = features_batch \n",
    "        labels[i * batch_size : (i + 1) * batch_size] = labels_batch\n",
    "        i += 1\n",
    "        if i * batch_size >= sample_count:\n",
    "            break\n",
    "    return features, labels\n",
    "\n",
    "train_features, train_labels = extract_features(train_dir, 1799)\n",
    "validation_features, validation_labels = extract_features(validation_dir, 600)\n",
    "test_features, test_labels = extract_features(test_dir, 600)"
   ]
  },
  {
   "cell_type": "code",
   "execution_count": 8,
   "metadata": {
    "executionInfo": {
     "elapsed": 144,
     "status": "ok",
     "timestamp": 1623119125851,
     "user": {
      "displayName": "caroline shi",
      "photoUrl": "https://lh3.googleusercontent.com/a-/AOh14Gh0UvgeQ-e1aTotF83kgNe-IlqcX7-2TuedHOI1zA=s64",
      "userId": "15004570275929463310"
     },
     "user_tz": 420
    },
    "id": "Fc16QegnZ4dF"
   },
   "outputs": [],
   "source": [
    "train_features = np.reshape(train_features, (1799, 4 * 4 * 512))\n",
    "validation_features = np.reshape(validation_features, (600, 4 * 4 * 512))\n",
    "test_features = np.reshape(test_features, (600, 4 * 4 * 512))"
   ]
  },
  {
   "cell_type": "code",
   "execution_count": 9,
   "metadata": {
    "executionInfo": {
     "elapsed": 183,
     "status": "ok",
     "timestamp": 1623119127402,
     "user": {
      "displayName": "caroline shi",
      "photoUrl": "https://lh3.googleusercontent.com/a-/AOh14Gh0UvgeQ-e1aTotF83kgNe-IlqcX7-2TuedHOI1zA=s64",
      "userId": "15004570275929463310"
     },
     "user_tz": 420
    },
    "id": "hKc0ZBRtiqSD"
   },
   "outputs": [],
   "source": [
    "es = EarlyStopping(monitor='val_loss', mode='min', verbose=1, patience=5)"
   ]
  },
  {
   "cell_type": "code",
   "execution_count": 10,
   "metadata": {
    "colab": {
     "base_uri": "https://localhost:8080/"
    },
    "executionInfo": {
     "elapsed": 96881,
     "status": "ok",
     "timestamp": 1623119226910,
     "user": {
      "displayName": "caroline shi",
      "photoUrl": "https://lh3.googleusercontent.com/a-/AOh14Gh0UvgeQ-e1aTotF83kgNe-IlqcX7-2TuedHOI1zA=s64",
      "userId": "15004570275929463310"
     },
     "user_tz": 420
    },
    "id": "obr9HdtYKCe1",
    "outputId": "77ddaceb-b3f8-4722-a41d-e2d463c18955"
   },
   "outputs": [
    {
     "name": "stdout",
     "output_type": "stream",
     "text": [
      "Epoch 1/30\n",
      "60/60 [==============================] - 17s 43ms/step - loss: 1.1281 - acc: 0.4837 - val_loss: 0.9265 - val_acc: 0.5183\n",
      "Epoch 2/30\n",
      "60/60 [==============================] - 2s 33ms/step - loss: 0.7724 - acc: 0.6517 - val_loss: 0.7254 - val_acc: 0.6650\n",
      "Epoch 3/30\n",
      "60/60 [==============================] - 2s 34ms/step - loss: 0.5499 - acc: 0.7776 - val_loss: 0.6419 - val_acc: 0.7267\n",
      "Epoch 4/30\n",
      "60/60 [==============================] - 2s 33ms/step - loss: 0.4646 - acc: 0.8134 - val_loss: 0.6136 - val_acc: 0.7733\n",
      "Epoch 5/30\n",
      "60/60 [==============================] - 2s 33ms/step - loss: 0.3815 - acc: 0.8542 - val_loss: 0.6788 - val_acc: 0.7533\n",
      "Epoch 6/30\n",
      "60/60 [==============================] - 2s 33ms/step - loss: 0.3208 - acc: 0.8710 - val_loss: 0.6403 - val_acc: 0.7767\n",
      "Epoch 7/30\n",
      "60/60 [==============================] - 2s 33ms/step - loss: 0.2463 - acc: 0.9132 - val_loss: 0.7747 - val_acc: 0.7683\n",
      "Epoch 8/30\n",
      "60/60 [==============================] - 2s 34ms/step - loss: 0.2037 - acc: 0.9252 - val_loss: 0.8686 - val_acc: 0.7650\n",
      "Epoch 9/30\n",
      "60/60 [==============================] - 2s 33ms/step - loss: 0.1758 - acc: 0.9427 - val_loss: 0.8639 - val_acc: 0.7450\n",
      "Epoch 10/30\n",
      "60/60 [==============================] - 2s 33ms/step - loss: 0.1662 - acc: 0.9348 - val_loss: 0.8287 - val_acc: 0.7667\n",
      "Epoch 11/30\n",
      "60/60 [==============================] - 2s 33ms/step - loss: 0.1380 - acc: 0.9511 - val_loss: 0.7629 - val_acc: 0.7700\n",
      "Epoch 12/30\n",
      "60/60 [==============================] - 2s 33ms/step - loss: 0.1635 - acc: 0.9387 - val_loss: 1.2519 - val_acc: 0.7067\n",
      "Epoch 13/30\n",
      "60/60 [==============================] - 2s 33ms/step - loss: 0.1139 - acc: 0.9571 - val_loss: 1.0199 - val_acc: 0.7333\n",
      "Epoch 14/30\n",
      "60/60 [==============================] - 2s 33ms/step - loss: 0.0917 - acc: 0.9697 - val_loss: 1.1063 - val_acc: 0.7633\n",
      "Epoch 15/30\n",
      "60/60 [==============================] - 2s 33ms/step - loss: 0.0753 - acc: 0.9765 - val_loss: 0.9171 - val_acc: 0.7717\n",
      "Epoch 16/30\n",
      "60/60 [==============================] - 2s 33ms/step - loss: 0.0591 - acc: 0.9775 - val_loss: 1.2285 - val_acc: 0.7450\n",
      "Epoch 17/30\n",
      "60/60 [==============================] - 2s 33ms/step - loss: 0.0473 - acc: 0.9813 - val_loss: 1.4631 - val_acc: 0.7600\n",
      "Epoch 18/30\n",
      "60/60 [==============================] - 2s 33ms/step - loss: 0.0717 - acc: 0.9745 - val_loss: 1.1658 - val_acc: 0.7583\n",
      "Epoch 19/30\n",
      "60/60 [==============================] - 2s 33ms/step - loss: 0.0812 - acc: 0.9700 - val_loss: 1.0405 - val_acc: 0.7467\n",
      "Epoch 20/30\n",
      "60/60 [==============================] - 2s 33ms/step - loss: 0.0490 - acc: 0.9842 - val_loss: 1.1949 - val_acc: 0.7583\n",
      "Epoch 21/30\n",
      "60/60 [==============================] - 2s 33ms/step - loss: 0.0506 - acc: 0.9827 - val_loss: 1.3597 - val_acc: 0.7633\n",
      "Epoch 22/30\n",
      "60/60 [==============================] - 2s 34ms/step - loss: 0.0571 - acc: 0.9828 - val_loss: 1.1239 - val_acc: 0.7667\n",
      "Epoch 23/30\n",
      "60/60 [==============================] - 2s 33ms/step - loss: 0.0654 - acc: 0.9780 - val_loss: 1.3995 - val_acc: 0.7567\n",
      "Epoch 24/30\n",
      "60/60 [==============================] - 2s 33ms/step - loss: 0.0921 - acc: 0.9646 - val_loss: 0.9870 - val_acc: 0.7767\n",
      "Epoch 25/30\n",
      "60/60 [==============================] - 2s 33ms/step - loss: 0.0475 - acc: 0.9872 - val_loss: 1.2483 - val_acc: 0.7617\n",
      "Epoch 26/30\n",
      "60/60 [==============================] - 2s 33ms/step - loss: 0.0955 - acc: 0.9640 - val_loss: 1.2423 - val_acc: 0.7483\n",
      "Epoch 27/30\n",
      "60/60 [==============================] - 2s 33ms/step - loss: 0.0715 - acc: 0.9764 - val_loss: 1.2902 - val_acc: 0.7867\n",
      "Epoch 28/30\n",
      "60/60 [==============================] - 2s 33ms/step - loss: 0.0471 - acc: 0.9844 - val_loss: 1.4423 - val_acc: 0.7833\n",
      "Epoch 29/30\n",
      "60/60 [==============================] - 2s 33ms/step - loss: 0.0280 - acc: 0.9909 - val_loss: 1.3560 - val_acc: 0.7517\n",
      "Epoch 30/30\n",
      "60/60 [==============================] - 2s 33ms/step - loss: 0.0398 - acc: 0.9813 - val_loss: 1.4512 - val_acc: 0.7633\n"
     ]
    }
   ],
   "source": [
    "model = models.Sequential()\n",
    "model.add(layers.Dense(512, activation='relu', input_dim=4 * 4 * 512))\n",
    "model.add(layers.Dropout(0.2))\n",
    "\n",
    "model.add(layers.Dense(256, activation='relu'))\n",
    "model.add(layers.Dropout(0.2))\n",
    "\n",
    "model.add(layers.Dense(128, activation='relu'))\n",
    "model.add(layers.Dropout(0.2))\n",
    "\n",
    "model.add(layers.Dense(3, activation='softmax'))\n",
    "\n",
    "model.compile(optimizer='adam',\n",
    "              loss='categorical_crossentropy',\n",
    "              metrics=['acc'])\n",
    "\n",
    "history = model.fit(train_features, train_labels,\n",
    "                    epochs=30,\n",
    "                    batch_size=30,\n",
    "                    validation_data=(validation_features, validation_labels), \n",
    "                    validation_steps=20)"
   ]
  },
  {
   "cell_type": "code",
   "execution_count": 11,
   "metadata": {
    "executionInfo": {
     "elapsed": 148,
     "status": "ok",
     "timestamp": 1623119251144,
     "user": {
      "displayName": "caroline shi",
      "photoUrl": "https://lh3.googleusercontent.com/a-/AOh14Gh0UvgeQ-e1aTotF83kgNe-IlqcX7-2TuedHOI1zA=s64",
      "userId": "15004570275929463310"
     },
     "user_tz": 420
    },
    "id": "Cqo5BFjrVHr7"
   },
   "outputs": [],
   "source": [
    "model.save('threeclass_transfer.h5')"
   ]
  },
  {
   "cell_type": "code",
   "execution_count": 12,
   "metadata": {
    "colab": {
     "base_uri": "https://localhost:8080/",
     "height": 545
    },
    "executionInfo": {
     "elapsed": 609,
     "status": "ok",
     "timestamp": 1623119253678,
     "user": {
      "displayName": "caroline shi",
      "photoUrl": "https://lh3.googleusercontent.com/a-/AOh14Gh0UvgeQ-e1aTotF83kgNe-IlqcX7-2TuedHOI1zA=s64",
      "userId": "15004570275929463310"
     },
     "user_tz": 420
    },
    "id": "YZ_D9fhNa46m",
    "outputId": "c4c6aa6b-46fb-47a9-c764-0465272d2c2d"
   },
   "outputs": [
    {
     "data": {
      "image/png": "[encoded data removed]",
      "text/plain": [
       "<Figure size 432x288 with 1 Axes>"
      ]
     },
     "metadata": {
      "needs_background": "light",
      "tags": []
     },
     "output_type": "display_data"
    },
    {
     "data": {
      "image/png": "[encoded data removed]",
      "text/plain": [
       "<Figure size 432x288 with 1 Axes>"
      ]
     },
     "metadata": {
      "needs_background": "light",
      "tags": []
     },
     "output_type": "display_data"
    }
   ],
   "source": [
    "acc = history.history['acc']\n",
    "val_acc = history.history['val_acc']\n",
    "loss = history.history['loss']\n",
    "val_loss = history.history['val_loss']\n",
    "\n",
    "epochs = range(len(acc))\n",
    "\n",
    "plt.plot(epochs, acc, 'bo', label='Training acc')\n",
    "plt.plot(epochs, val_acc, 'b', label='Validation acc')\n",
    "plt.title('Training and validation accuracy')\n",
    "plt.legend()\n",
    "\n",
    "plt.figure()\n",
    "\n",
    "plt.plot(epochs, loss, 'bo', label='Training loss')\n",
    "plt.plot(epochs, val_loss, 'b', label='Validation loss')\n",
    "plt.title('Training and validation loss')\n",
    "plt.legend()\n",
    "\n",
    "plt.show()"
   ]
  },
  {
   "cell_type": "code",
   "execution_count": null,
   "metadata": {
    "id": "bw8JCa-sck14"
   },
   "outputs": [],
   "source": []
  }
 ],
 "metadata": {
  "colab": {
   "authorship_tag": "ABX9TyOVm7Cz7LGdaboAL09bimnn",
   "collapsed_sections": [],
   "name": "THREECLASS--TRANSFER.ipynb",
   "provenance": []
  },
  "kernelspec": {
   "display_name": "Python 3",
   "language": "python",
   "name": "python3"
  },
  "language_info": {
   "codemirror_mode": {
    "name": "ipython",
    "version": 3
   },
   "file_extension": ".py",
   "mimetype": "text/x-python",
   "name": "python",
   "nbconvert_exporter": "python",
   "pygments_lexer": "ipython3",
   "version": "3.8.5"
  }
 },
 "nbformat": 4,
 "nbformat_minor": 1
}
