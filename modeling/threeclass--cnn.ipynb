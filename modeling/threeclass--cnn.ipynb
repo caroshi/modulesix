{
 "cells": [
  {
   "cell_type": "code",
   "execution_count": null,
   "metadata": {
    "id": "Z4EwW2nxH51J"
   },
   "outputs": [],
   "source": [
    "import pandas as pd\n",
    "import numpy as np\n",
    "\n",
    "import keras\n",
    "from keras import layers\n",
    "from keras import models\n",
    "from keras import optimizers\n",
    "\n",
    "from keras.preprocessing.image import ImageDataGenerator, image\n",
    "from keras.applications import mobilenet_v2\n",
    "from keras.layers import Dense, Conv2D, MaxPooling2D, Flatten, Dropout, InputLayer\n",
    "from tensorflow.keras.callbacks import EarlyStopping\n",
    "from tensorflow.keras.optimizers import Adam\n",
    "from tensorflow.keras.applications import VGG16\n",
    "from tensorflow.keras.models import Sequential, Model\n",
    "\n",
    "import math\n",
    "from sklearn.metrics import confusion_matrix, classification_report\n",
    "\n",
    "import glob\n",
    "import os\n",
    "from pathlib import Path\n",
    "import shutil\n",
    "\n",
    "import seaborn as sns\n",
    "import matplotlib.pyplot as plt\n",
    "%matplotlib inline"
   ]
  },
  {
   "cell_type": "code",
   "execution_count": null,
   "metadata": {
    "colab": {
     "base_uri": "https://localhost:8080/",
     "height": 35
    },
    "executionInfo": {
     "elapsed": 171,
     "status": "ok",
     "timestamp": 1623097240088,
     "user": {
      "displayName": "caroline shi",
      "photoUrl": "https://lh3.googleusercontent.com/a-/AOh14Gh0UvgeQ-e1aTotF83kgNe-IlqcX7-2TuedHOI1zA=s64",
      "userId": "15004570275929463310"
     },
     "user_tz": 420
    },
    "id": "OGTvssOhImKL",
    "outputId": "bc2744a6-a265-4905-c4d4-00909c8e8838"
   },
   "outputs": [
    {
     "data": {
      "application/vnd.google.colaboratory.intrinsic+json": {
       "type": "string"
      },
      "text/plain": [
       "'2.5.0'"
      ]
     },
     "execution_count": 19,
     "metadata": {
      "tags": []
     },
     "output_type": "execute_result"
    }
   ],
   "source": [
    "keras.__version__\n"
   ]
  },
  {
   "cell_type": "code",
   "execution_count": null,
   "metadata": {
    "colab": {
     "base_uri": "https://localhost:8080/"
    },
    "executionInfo": {
     "elapsed": 148,
     "status": "ok",
     "timestamp": 1623097525579,
     "user": {
      "displayName": "caroline shi",
      "photoUrl": "https://lh3.googleusercontent.com/a-/AOh14Gh0UvgeQ-e1aTotF83kgNe-IlqcX7-2TuedHOI1zA=s64",
      "userId": "15004570275929463310"
     },
     "user_tz": 420
    },
    "id": "3TrPt0HYxz-I",
    "outputId": "237825f2-947c-421d-9399-c88d11364fe3"
   },
   "outputs": [
    {
     "name": "stdout",
     "output_type": "stream",
     "text": [
      "Drive already mounted at /content/drive; to attempt to forcibly remount, call drive.mount(\"/content/drive\", force_remount=True).\n"
     ]
    }
   ],
   "source": [
    "from google.colab import drive\n",
    "drive.mount('/content/drive')"
   ]
  },
  {
   "cell_type": "code",
   "execution_count": null,
   "metadata": {
    "id": "7eHS3p8k0uZg"
   },
   "outputs": [],
   "source": [
    "train_dir = '/content/drive/MyDrive/threeclass/train'\n",
    "validation_dir = '/content/drive/MyDrive/threeclass/validation'\n",
    "test_dir = '/content/drive/MyDrive/threeclass/test'"
   ]
  },
  {
   "cell_type": "markdown",
   "metadata": {
    "id": "YuhfLk18o05p"
   },
   "source": [
    "## First Model Run with CNN"
   ]
  },
  {
   "cell_type": "code",
   "execution_count": null,
   "metadata": {
    "colab": {
     "base_uri": "https://localhost:8080/"
    },
    "executionInfo": {
     "elapsed": 5857,
     "status": "ok",
     "timestamp": 1623021749370,
     "user": {
      "displayName": "caroline shi",
      "photoUrl": "https://lh3.googleusercontent.com/a-/AOh14Gh0UvgeQ-e1aTotF83kgNe-IlqcX7-2TuedHOI1zA=s64",
      "userId": "15004570275929463310"
     },
     "user_tz": 420
    },
    "id": "UUPhieiuzsjc",
    "outputId": "7bf6b8ee-6c62-4abb-994d-52279d3a6a1c"
   },
   "outputs": [
    {
     "name": "stdout",
     "output_type": "stream",
     "text": [
      "Found 1799 images belonging to 3 classes.\n",
      "Found 600 images belonging to 3 classes.\n"
     ]
    }
   ],
   "source": [
    "train_datagen = ImageDataGenerator(rescale=1./255)\n",
    "val_datagen = ImageDataGenerator(rescale=1./255)\n",
    "\n",
    "train_generator = train_datagen.flow_from_directory(\n",
    "        train_dir,\n",
    "        target_size=(150, 150),\n",
    "        batch_size=30,\n",
    "        class_mode='categorical')\n",
    "\n",
    "validation_generator = val_datagen.flow_from_directory(\n",
    "        validation_dir,\n",
    "        target_size=(150, 150),\n",
    "        batch_size=20,\n",
    "        class_mode='categorical')"
   ]
  },
  {
   "cell_type": "code",
   "execution_count": null,
   "metadata": {
    "colab": {
     "base_uri": "https://localhost:8080/"
    },
    "executionInfo": {
     "elapsed": 12227,
     "status": "ok",
     "timestamp": 1623021764177,
     "user": {
      "displayName": "caroline shi",
      "photoUrl": "https://lh3.googleusercontent.com/a-/AOh14Gh0UvgeQ-e1aTotF83kgNe-IlqcX7-2TuedHOI1zA=s64",
      "userId": "15004570275929463310"
     },
     "user_tz": 420
    },
    "id": "Dz1DrRtnzsjd",
    "outputId": "24697827-c15b-4bfc-93a8-38644268a1b2"
   },
   "outputs": [
    {
     "name": "stdout",
     "output_type": "stream",
     "text": [
      "data batch shape: (30, 150, 150, 3)\n",
      "labels batch shape: (30, 3)\n"
     ]
    }
   ],
   "source": [
    "for data_batch, labels_batch in train_generator:\n",
    "    print('data batch shape:', data_batch.shape)\n",
    "    print('labels batch shape:', labels_batch.shape)\n",
    "    break"
   ]
  },
  {
   "cell_type": "code",
   "execution_count": null,
   "metadata": {
    "id": "iLrXWJzOcnpq"
   },
   "outputs": [],
   "source": [
    "model = models.Sequential()\n",
    "model.add(layers.Conv2D(32, (3, 3), activation='relu',\n",
    "                        input_shape=(150, 150, 3)))\n",
    "model.add(layers.MaxPooling2D((2, 2)))\n",
    "\n",
    "model.add(layers.Conv2D(64, (3, 3), activation='relu'))\n",
    "model.add(layers.MaxPooling2D((2, 2)))\n",
    "\n",
    "model.add(layers.Conv2D(128, (3, 3), activation='relu'))\n",
    "model.add(layers.MaxPooling2D((2, 2)))\n",
    "\n",
    "model.add(layers.Conv2D(128, (3, 3), activation='relu'))\n",
    "model.add(layers.MaxPooling2D((2, 2)))\n",
    "\n",
    "model.add(layers.Flatten())\n",
    "model.add(layers.Dropout(0.5))\n",
    "model.add(layers.Dense(512, activation='relu'))\n",
    "model.add(layers.Dense(3, activation='softmax'))\n",
    "\n",
    "model.compile(loss='categorical_crossentropy',\n",
    "              optimizer='adam', metrics=['acc'])"
   ]
  },
  {
   "cell_type": "code",
   "execution_count": null,
   "metadata": {
    "colab": {
     "base_uri": "https://localhost:8080/"
    },
    "executionInfo": {
     "elapsed": 125,
     "status": "ok",
     "timestamp": 1623022127958,
     "user": {
      "displayName": "caroline shi",
      "photoUrl": "https://lh3.googleusercontent.com/a-/AOh14Gh0UvgeQ-e1aTotF83kgNe-IlqcX7-2TuedHOI1zA=s64",
      "userId": "15004570275929463310"
     },
     "user_tz": 420
    },
    "id": "gb1aSW4K1iYd",
    "outputId": "7cb87608-de7d-44bd-aa3f-181224aa189c"
   },
   "outputs": [
    {
     "name": "stdout",
     "output_type": "stream",
     "text": [
      "Model: \"sequential_1\"\n",
      "_________________________________________________________________\n",
      "Layer (type)                 Output Shape              Param #   \n",
      "=================================================================\n",
      "conv2d_4 (Conv2D)            (None, 148, 148, 32)      896       \n",
      "_________________________________________________________________\n",
      "max_pooling2d_4 (MaxPooling2 (None, 74, 74, 32)        0         \n",
      "_________________________________________________________________\n",
      "conv2d_5 (Conv2D)            (None, 72, 72, 64)        18496     \n",
      "_________________________________________________________________\n",
      "max_pooling2d_5 (MaxPooling2 (None, 36, 36, 64)        0         \n",
      "_________________________________________________________________\n",
      "conv2d_6 (Conv2D)            (None, 34, 34, 128)       73856     \n",
      "_________________________________________________________________\n",
      "max_pooling2d_6 (MaxPooling2 (None, 17, 17, 128)       0         \n",
      "_________________________________________________________________\n",
      "conv2d_7 (Conv2D)            (None, 15, 15, 128)       147584    \n",
      "_________________________________________________________________\n",
      "max_pooling2d_7 (MaxPooling2 (None, 7, 7, 128)         0         \n",
      "_________________________________________________________________\n",
      "flatten_1 (Flatten)          (None, 6272)              0         \n",
      "_________________________________________________________________\n",
      "dropout_1 (Dropout)          (None, 6272)              0         \n",
      "_________________________________________________________________\n",
      "dense_2 (Dense)              (None, 512)               3211776   \n",
      "_________________________________________________________________\n",
      "dense_3 (Dense)              (None, 3)                 1539      \n",
      "=================================================================\n",
      "Total params: 3,454,147\n",
      "Trainable params: 3,454,147\n",
      "Non-trainable params: 0\n",
      "_________________________________________________________________\n"
     ]
    }
   ],
   "source": [
    "model.summary()\n"
   ]
  },
  {
   "cell_type": "code",
   "execution_count": null,
   "metadata": {
    "colab": {
     "base_uri": "https://localhost:8080/"
    },
    "executionInfo": {
     "elapsed": 4904511,
     "status": "ok",
     "timestamp": 1623027033976,
     "user": {
      "displayName": "caroline shi",
      "photoUrl": "https://lh3.googleusercontent.com/a-/AOh14Gh0UvgeQ-e1aTotF83kgNe-IlqcX7-2TuedHOI1zA=s64",
      "userId": "15004570275929463310"
     },
     "user_tz": 420
    },
    "id": "5UvMdpvz1ogt",
    "outputId": "c25d9bd0-f72a-42dd-e112-d5326d80a667"
   },
   "outputs": [
    {
     "name": "stderr",
     "output_type": "stream",
     "text": [
      "/usr/local/lib/python3.7/dist-packages/keras/engine/training.py:1915: UserWarning: `Model.fit_generator` is deprecated and will be removed in a future version. Please use `Model.fit`, which supports generators.\n",
      "  warnings.warn('`Model.fit_generator` is deprecated and '\n"
     ]
    },
    {
     "name": "stdout",
     "output_type": "stream",
     "text": [
      "Epoch 1/30\n",
      "60/60 [==============================] - 862s 14s/step - loss: 1.1095 - acc: 0.4144 - val_loss: 1.0400 - val_acc: 0.4617\n",
      "Epoch 2/30\n",
      "60/60 [==============================] - 137s 2s/step - loss: 1.0290 - acc: 0.4602 - val_loss: 0.9857 - val_acc: 0.5317\n",
      "Epoch 3/30\n",
      "60/60 [==============================] - 136s 2s/step - loss: 0.9563 - acc: 0.5415 - val_loss: 0.9868 - val_acc: 0.5133\n",
      "Epoch 4/30\n",
      "60/60 [==============================] - 135s 2s/step - loss: 0.9706 - acc: 0.5268 - val_loss: 1.0433 - val_acc: 0.4900\n",
      "Epoch 5/30\n",
      "60/60 [==============================] - 135s 2s/step - loss: 0.9716 - acc: 0.5216 - val_loss: 0.9248 - val_acc: 0.5733\n",
      "Epoch 6/30\n",
      "60/60 [==============================] - 135s 2s/step - loss: 0.8858 - acc: 0.5641 - val_loss: 0.9191 - val_acc: 0.5567\n",
      "Epoch 7/30\n",
      "60/60 [==============================] - 135s 2s/step - loss: 0.9020 - acc: 0.5669 - val_loss: 0.8990 - val_acc: 0.5867\n",
      "Epoch 8/30\n",
      "60/60 [==============================] - 135s 2s/step - loss: 0.8706 - acc: 0.5997 - val_loss: 0.9014 - val_acc: 0.5783\n",
      "Epoch 9/30\n",
      "60/60 [==============================] - 136s 2s/step - loss: 0.8143 - acc: 0.6244 - val_loss: 0.9264 - val_acc: 0.5550\n",
      "Epoch 10/30\n",
      "60/60 [==============================] - 136s 2s/step - loss: 0.7795 - acc: 0.6546 - val_loss: 0.9146 - val_acc: 0.5800\n",
      "Epoch 11/30\n",
      "60/60 [==============================] - 138s 2s/step - loss: 0.7333 - acc: 0.6713 - val_loss: 0.9548 - val_acc: 0.5817\n",
      "Epoch 12/30\n",
      "60/60 [==============================] - 138s 2s/step - loss: 0.7338 - acc: 0.6702 - val_loss: 0.9644 - val_acc: 0.5800\n",
      "Epoch 13/30\n",
      "60/60 [==============================] - 138s 2s/step - loss: 0.6896 - acc: 0.6924 - val_loss: 0.9362 - val_acc: 0.6200\n",
      "Epoch 14/30\n",
      "60/60 [==============================] - 137s 2s/step - loss: 0.6001 - acc: 0.7375 - val_loss: 0.9876 - val_acc: 0.5950\n",
      "Epoch 15/30\n",
      "60/60 [==============================] - 136s 2s/step - loss: 0.5620 - acc: 0.7759 - val_loss: 1.0102 - val_acc: 0.6017\n",
      "Epoch 16/30\n",
      "60/60 [==============================] - 136s 2s/step - loss: 0.4929 - acc: 0.8071 - val_loss: 0.9853 - val_acc: 0.6450\n",
      "Epoch 17/30\n",
      "60/60 [==============================] - 137s 2s/step - loss: 0.4946 - acc: 0.8050 - val_loss: 0.9661 - val_acc: 0.6250\n",
      "Epoch 18/30\n",
      "60/60 [==============================] - 137s 2s/step - loss: 0.4019 - acc: 0.8441 - val_loss: 1.0234 - val_acc: 0.6033\n",
      "Epoch 19/30\n",
      "60/60 [==============================] - 137s 2s/step - loss: 0.3643 - acc: 0.8585 - val_loss: 1.0862 - val_acc: 0.6450\n",
      "Epoch 20/30\n",
      "60/60 [==============================] - 137s 2s/step - loss: 0.3080 - acc: 0.8812 - val_loss: 1.3172 - val_acc: 0.6033\n",
      "Epoch 21/30\n",
      "60/60 [==============================] - 137s 2s/step - loss: 0.3067 - acc: 0.8870 - val_loss: 1.3525 - val_acc: 0.6483\n",
      "Epoch 22/30\n",
      "60/60 [==============================] - 138s 2s/step - loss: 0.2296 - acc: 0.9167 - val_loss: 1.4321 - val_acc: 0.6367\n",
      "Epoch 23/30\n",
      "60/60 [==============================] - 136s 2s/step - loss: 0.2239 - acc: 0.9125 - val_loss: 1.3557 - val_acc: 0.6417\n",
      "Epoch 24/30\n",
      "60/60 [==============================] - 136s 2s/step - loss: 0.1900 - acc: 0.9340 - val_loss: 1.4599 - val_acc: 0.6217\n",
      "Epoch 25/30\n",
      "60/60 [==============================] - 137s 2s/step - loss: 0.1720 - acc: 0.9395 - val_loss: 1.3838 - val_acc: 0.6700\n",
      "Epoch 26/30\n",
      "60/60 [==============================] - 137s 2s/step - loss: 0.1688 - acc: 0.9456 - val_loss: 1.3930 - val_acc: 0.6217\n",
      "Epoch 27/30\n",
      "60/60 [==============================] - 136s 2s/step - loss: 0.1410 - acc: 0.9514 - val_loss: 1.4665 - val_acc: 0.6233\n",
      "Epoch 28/30\n",
      "60/60 [==============================] - 138s 2s/step - loss: 0.1167 - acc: 0.9674 - val_loss: 1.4984 - val_acc: 0.6467\n",
      "Epoch 29/30\n",
      "60/60 [==============================] - 137s 2s/step - loss: 0.0977 - acc: 0.9637 - val_loss: 1.5640 - val_acc: 0.6083\n",
      "Epoch 30/30\n",
      "60/60 [==============================] - 137s 2s/step - loss: 0.1074 - acc: 0.9634 - val_loss: 1.7329 - val_acc: 0.6267\n"
     ]
    }
   ],
   "source": [
    "history = model.fit_generator(\n",
    "      train_generator,\n",
    "      steps_per_epoch=60,\n",
    "      epochs=30,\n",
    "      validation_data=validation_generator,\n",
    "      validation_steps=30)"
   ]
  },
  {
   "cell_type": "code",
   "execution_count": null,
   "metadata": {
    "id": "Elz7aQaM2Fyz"
   },
   "outputs": [],
   "source": [
    "model.save('multiclass_one.h5')"
   ]
  },
  {
   "cell_type": "code",
   "execution_count": null,
   "metadata": {
    "colab": {
     "base_uri": "https://localhost:8080/",
     "height": 545
    },
    "executionInfo": {
     "elapsed": 435,
     "status": "ok",
     "timestamp": 1623027121131,
     "user": {
      "displayName": "caroline shi",
      "photoUrl": "https://lh3.googleusercontent.com/a-/AOh14Gh0UvgeQ-e1aTotF83kgNe-IlqcX7-2TuedHOI1zA=s64",
      "userId": "15004570275929463310"
     },
     "user_tz": 420
    },
    "id": "9mbaRnKQ7pIJ",
    "outputId": "3547bdb8-4951-4760-cbaf-fe693147aa18"
   },
   "outputs": [
    {
     "data": {
      "image/png": "[encoded data removed]",
      "text/plain": [
       "<Figure size 432x288 with 1 Axes>"
      ]
     },
     "metadata": {
      "needs_background": "light",
      "tags": []
     },
     "output_type": "display_data"
    },
    {
     "data": {
      "image/png": "[encoded data removed]",
      "text/plain": [
       "<Figure size 432x288 with 1 Axes>"
      ]
     },
     "metadata": {
      "needs_background": "light",
      "tags": []
     },
     "output_type": "display_data"
    }
   ],
   "source": [
    "acc = history.history['acc']\n",
    "val_acc = history.history['val_acc']\n",
    "loss = history.history['loss']\n",
    "val_loss = history.history['val_loss']\n",
    "\n",
    "epochs = range(len(acc))\n",
    "\n",
    "plt.plot(epochs, acc, 'bo', label='Training acc')\n",
    "plt.plot(epochs, val_acc, 'b', label='Validation acc')\n",
    "plt.title('Training and validation accuracy')\n",
    "plt.legend()\n",
    "\n",
    "plt.figure()\n",
    "\n",
    "plt.plot(epochs, loss, 'bo', label='Training loss')\n",
    "plt.plot(epochs, val_loss, 'b', label='Validation loss')\n",
    "plt.title('Training and validation loss')\n",
    "plt.legend()\n",
    "\n",
    "plt.show()"
   ]
  },
  {
   "cell_type": "code",
   "execution_count": null,
   "metadata": {
    "id": "e-E9Y_1_YERS"
   },
   "outputs": [],
   "source": [
    "prediction = model.predict_classes(validation_generator)\n",
    "\n",
    "print(confusion_matrix(validation_generator.labels, prediction))\n",
    "print(classification_report(validation_generator.labels, prediction))"
   ]
  }
 ],
 "metadata": {
  "colab": {
   "authorship_tag": "ABX9TyPSnXS3a0qQNeTPIrwdPNvr",
   "collapsed_sections": [],
   "mount_file_id": "1p4ZZ4kUdDEjNiwLjW3au4vORaghtBwwQ",
   "name": "THREECLASS-CNN.ipynb",
   "provenance": []
  },
  "kernelspec": {
   "display_name": "Python 3",
   "language": "python",
   "name": "python3"
  },
  "language_info": {
   "codemirror_mode": {
    "name": "ipython",
    "version": 3
   },
   "file_extension": ".py",
   "mimetype": "text/x-python",
   "name": "python",
   "nbconvert_exporter": "python",
   "pygments_lexer": "ipython3",
   "version": "3.8.5"
  }
 },
 "nbformat": 4,
 "nbformat_minor": 1
}
