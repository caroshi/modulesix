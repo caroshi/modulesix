{
 "cells": [
  {
   "cell_type": "markdown",
   "metadata": {},
   "source": [
    "## Installing Packages"
   ]
  },
  {
   "cell_type": "code",
   "execution_count": null,
   "metadata": {},
   "outputs": [],
   "source": [
    "import keras\n",
    "from keras.preprocessing.image import ImageDataGenerator\n",
    "\n",
    "import pandas as pd\n",
    "import numpy as np\n",
    "\n",
    "import seaborn as sns\n",
    "import matplotlib.pyplot as plt\n",
    "%matplotlib inline\n",
    "\n",
    "import glob\n",
    "import os\n",
    "from pathlib import Path\n",
    "import shutil"
   ]
  },
  {
   "cell_type": "markdown",
   "metadata": {},
   "source": [
    "## Looking at Data, Splitting Up Images"
   ]
  },
  {
   "cell_type": "code",
   "execution_count": null,
   "metadata": {},
   "outputs": [],
   "source": [
    "all_images_df = pd.read_csv('all_data_info.csv')"
   ]
  },
  {
   "cell_type": "code",
   "execution_count": null,
   "metadata": {
    "scrolled": true
   },
   "outputs": [],
   "source": [
    "all_images_df"
   ]
  },
  {
   "cell_type": "code",
   "execution_count": null,
   "metadata": {},
   "outputs": [],
   "source": [
    "all_images_df['style'].value_counts().head(25)"
   ]
  },
  {
   "cell_type": "code",
   "execution_count": null,
   "metadata": {},
   "outputs": [],
   "source": [
    "surrealism_df = all_images_df[all_images_df['style'] == 'Surrealism']"
   ]
  },
  {
   "cell_type": "code",
   "execution_count": null,
   "metadata": {},
   "outputs": [],
   "source": [
    "surrealism_df = surrealism_df[surrealism_df['in_train'] == True]"
   ]
  },
  {
   "cell_type": "code",
   "execution_count": null,
   "metadata": {
    "scrolled": true
   },
   "outputs": [],
   "source": [
    "surrealism_df"
   ]
  },
  {
   "cell_type": "code",
   "execution_count": null,
   "metadata": {},
   "outputs": [],
   "source": [
    "surrealism_list = list(surrealism_df['new_filename'])"
   ]
  },
  {
   "cell_type": "code",
   "execution_count": null,
   "metadata": {},
   "outputs": [],
   "source": [
    "surrealism_list"
   ]
  },
  {
   "cell_type": "code",
   "execution_count": null,
   "metadata": {},
   "outputs": [],
   "source": [
    "rococo_df = all_images_df[all_images_df['style'] == 'Rococo']"
   ]
  },
  {
   "cell_type": "code",
   "execution_count": null,
   "metadata": {},
   "outputs": [],
   "source": [
    "rococo_df = rococo_df.append(all_images_df[all_images_df['style'] == 'Neoclassicism'])"
   ]
  },
  {
   "cell_type": "code",
   "execution_count": null,
   "metadata": {},
   "outputs": [],
   "source": [
    "rococo_df = rococo_df[rococo_df['in_train'] == True]"
   ]
  },
  {
   "cell_type": "code",
   "execution_count": null,
   "metadata": {
    "scrolled": true
   },
   "outputs": [],
   "source": [
    "rococo_df"
   ]
  },
  {
   "cell_type": "code",
   "execution_count": null,
   "metadata": {},
   "outputs": [],
   "source": [
    "rococo_list = list(rococo_df['new_filename'])"
   ]
  },
  {
   "cell_type": "code",
   "execution_count": null,
   "metadata": {},
   "outputs": [],
   "source": [
    "rococo_list"
   ]
  },
  {
   "cell_type": "code",
   "execution_count": null,
   "metadata": {},
   "outputs": [],
   "source": [
    "impressionism_df = all_images_df[all_images_df['style'] == 'Impressionism']"
   ]
  },
  {
   "cell_type": "code",
   "execution_count": null,
   "metadata": {},
   "outputs": [],
   "source": [
    "impressionism_df = impressionism_df[impressionism_df['in_train'] == True]"
   ]
  },
  {
   "cell_type": "code",
   "execution_count": null,
   "metadata": {
    "scrolled": true
   },
   "outputs": [],
   "source": [
    "impressionism_df"
   ]
  },
  {
   "cell_type": "code",
   "execution_count": null,
   "metadata": {},
   "outputs": [],
   "source": [
    "impressionism_list = list(impressionism_df['new_filename'])"
   ]
  },
  {
   "cell_type": "code",
   "execution_count": null,
   "metadata": {},
   "outputs": [],
   "source": [
    "impressionism_list"
   ]
  },
  {
   "cell_type": "code",
   "execution_count": null,
   "metadata": {},
   "outputs": [],
   "source": [
    "post_impressionism_df = all_images_df[all_images_df['style'] == 'Post-Impressionism']"
   ]
  },
  {
   "cell_type": "code",
   "execution_count": null,
   "metadata": {},
   "outputs": [],
   "source": [
    "post_impressionism_df = post_impressionism_df[post_impressionism_df['in_train'] == True]"
   ]
  },
  {
   "cell_type": "code",
   "execution_count": null,
   "metadata": {
    "scrolled": true
   },
   "outputs": [],
   "source": [
    "post_impressionism_df"
   ]
  },
  {
   "cell_type": "code",
   "execution_count": null,
   "metadata": {},
   "outputs": [],
   "source": [
    "post_impressionism_list = list(post_impressionism_df['new_filename'])"
   ]
  },
  {
   "cell_type": "code",
   "execution_count": null,
   "metadata": {},
   "outputs": [],
   "source": [
    "post_impressionism_list"
   ]
  },
  {
   "cell_type": "code",
   "execution_count": null,
   "metadata": {},
   "outputs": [],
   "source": [
    "impressionism_df.artist.value_counts()"
   ]
  },
  {
   "cell_type": "code",
   "execution_count": null,
   "metadata": {},
   "outputs": [],
   "source": [
    "post_impressionism_df.artist.value_counts()"
   ]
  },
  {
   "cell_type": "markdown",
   "metadata": {},
   "source": [
    "## Making Folders for Impressionism vs Post-Impressionism"
   ]
  },
  {
   "cell_type": "code",
   "execution_count": null,
   "metadata": {},
   "outputs": [],
   "source": [
    "cwd = os.getcwd()\n",
    "cwd"
   ]
  },
  {
   "cell_type": "code",
   "execution_count": null,
   "metadata": {},
   "outputs": [],
   "source": [
    "src = '/Users/carolineshi/Desktop/My_Repos_and_Work/Module_Six/neuralnet_project/code/train_2'\n",
    "dst = '/Users/carolineshi/Desktop/My_Repos_and_Work/Module_Six/neuralnet_project/code/impressionism'"
   ]
  },
  {
   "cell_type": "code",
   "execution_count": null,
   "metadata": {},
   "outputs": [],
   "source": [
    "files = [i for i in os.listdir(src) if i in impressionism_list]\n",
    "\n",
    "for f in files:\n",
    "    shutil.copy(os.path.join(src, f), dst)"
   ]
  },
  {
   "cell_type": "code",
   "execution_count": null,
   "metadata": {},
   "outputs": [],
   "source": [
    "post_src = '/Users/carolineshi/Desktop/My_Repos_and_Work/Module_Six/neuralnet_project/code/train_2'\n",
    "post_dst = '/Users/carolineshi/Desktop/My_Repos_and_Work/Module_Six/neuralnet_project/code/post_impressionism'"
   ]
  },
  {
   "cell_type": "code",
   "execution_count": null,
   "metadata": {},
   "outputs": [],
   "source": [
    "files = [i for i in os.listdir(src) if i in post_impressionism_list]\n",
    "\n",
    "for f in files:\n",
    "    shutil.copy(os.path.join(post_src, f), post_dst)"
   ]
  },
  {
   "cell_type": "markdown",
   "metadata": {},
   "source": [
    "## Setting up Train/Val/Test Directories For Impressionism/Post"
   ]
  },
  {
   "cell_type": "code",
   "execution_count": null,
   "metadata": {},
   "outputs": [],
   "source": [
    "original_imp_dir = '/Users/carolineshi/Desktop/My_Repos_and_Work/Module_Six/neuralnet_project/code/impressionism'\n",
    "original_post_imp_dir = '/Users/carolineshi/Desktop/My_Repos_and_Work/Module_Six/neuralnet_project/code/post_impressionism'"
   ]
  },
  {
   "cell_type": "code",
   "execution_count": null,
   "metadata": {},
   "outputs": [],
   "source": [
    "base_dir = '/Users/carolineshi/Desktop/My_Repos_and_Work/Module_Six/neuralnet_project/code/smallerdataset'\n",
    "os.mkdir(base_dir)"
   ]
  },
  {
   "cell_type": "code",
   "execution_count": null,
   "metadata": {},
   "outputs": [],
   "source": [
    "# Directories for our training, validation and test splits\n",
    "train_dir = os.path.join(base_dir, 'train')\n",
    "os.mkdir(train_dir)\n",
    "\n",
    "validation_dir = os.path.join(base_dir, 'validation')\n",
    "os.mkdir(validation_dir)\n",
    "\n",
    "test_dir = os.path.join(base_dir, 'test')\n",
    "os.mkdir(test_dir)"
   ]
  },
  {
   "cell_type": "code",
   "execution_count": null,
   "metadata": {},
   "outputs": [],
   "source": [
    "# Directory with our training impressionism pictures\n",
    "train_imp_dir = os.path.join(train_dir, 'impressionism')\n",
    "os.mkdir(train_imp_dir)\n",
    "\n",
    "# Directory with our training post-impressionism pictures\n",
    "train_post_imp_dir = os.path.join(train_dir, 'post_impressionism')\n",
    "os.mkdir(train_post_imp_dir)"
   ]
  },
  {
   "cell_type": "code",
   "execution_count": null,
   "metadata": {},
   "outputs": [],
   "source": [
    "# Directory with our validationing impressionism pictures\n",
    "validation_imp_dir = os.path.join(validation_dir, 'impressionism')\n",
    "os.mkdir(validation_imp_dir)\n",
    "\n",
    "# Directory with our validationing post-impressionism pictures\n",
    "validation_post_imp_dir = os.path.join(validation_dir, 'post_impressionism')\n",
    "os.mkdir(validation_post_imp_dir)"
   ]
  },
  {
   "cell_type": "code",
   "execution_count": null,
   "metadata": {},
   "outputs": [],
   "source": [
    "# Directory with our testing impressionism pictures\n",
    "test_imp_dir = os.path.join(test_dir, 'impressionism')\n",
    "os.mkdir(test_imp_dir)\n",
    "\n",
    "# Directory with our testing post-impressionism pictures\n",
    "test_post_imp_dir = os.path.join(test_dir, 'post_impressionism')\n",
    "os.mkdir(test_post_imp_dir)"
   ]
  },
  {
   "cell_type": "code",
   "execution_count": null,
   "metadata": {},
   "outputs": [],
   "source": [
    "# Copy first 600 impressionism images to train_imp_dir\n",
    "parent_list = os.listdir(original_imp_dir)\n",
    "count=0\n",
    "for child in parent_list:\n",
    "    if count<600:\n",
    "        src = os.path.join(original_imp_dir, child)\n",
    "        dst = os.path.join(train_imp_dir, child)\n",
    "        shutil.copyfile(src, dst)\n",
    "    else:\n",
    "        break\n",
    "    count += 1 "
   ]
  },
  {
   "cell_type": "code",
   "execution_count": null,
   "metadata": {},
   "outputs": [],
   "source": [
    "# Copy next 200 impressionism images to validation_imp_dir\n",
    "parent_list = os.listdir(original_imp_dir)\n",
    "count=0\n",
    "for child in parent_list:\n",
    "    if count<600:\n",
    "        pass\n",
    "    elif count >= 600 and count <800:\n",
    "        src = os.path.join(original_imp_dir, child)\n",
    "        dst = os.path.join(validation_imp_dir, child)\n",
    "        shutil.copyfile(src, dst)\n",
    "    else:\n",
    "        break\n",
    "    count += 1 "
   ]
  },
  {
   "cell_type": "code",
   "execution_count": null,
   "metadata": {},
   "outputs": [],
   "source": [
    "# Copy next 200 impressionism images to test_imp_dir\n",
    "parent_list = os.listdir(original_imp_dir)\n",
    "count=0\n",
    "for child in parent_list:\n",
    "    if count<800:\n",
    "        pass\n",
    "    elif count >= 800 and count <1000:\n",
    "        src = os.path.join(original_imp_dir, child)\n",
    "        dst = os.path.join(test_imp_dir, child)\n",
    "        shutil.copyfile(src, dst)\n",
    "    else:\n",
    "        break\n",
    "    count += 1  "
   ]
  },
  {
   "cell_type": "code",
   "execution_count": null,
   "metadata": {},
   "outputs": [],
   "source": [
    "# Copy first 600 post-impressionism images to train_post_imp_dir\n",
    "parent_list = os.listdir(original_post_imp_dir)\n",
    "count=0\n",
    "for child in parent_list:\n",
    "    if count<600:\n",
    "        src = os.path.join(original_post_imp_dir, child)\n",
    "        dst = os.path.join(train_post_imp_dir, child)\n",
    "        shutil.copyfile(src, dst)\n",
    "    else:\n",
    "        break\n",
    "    count += 1 "
   ]
  },
  {
   "cell_type": "code",
   "execution_count": null,
   "metadata": {},
   "outputs": [],
   "source": [
    "# Copy next 200 post-impressionism  images to validation_post_imp_dir\n",
    "parent_list = os.listdir(original_post_imp_dir)\n",
    "count=0\n",
    "for child in parent_list:\n",
    "    if count<600:\n",
    "        pass\n",
    "    elif count >= 600 and count <800:\n",
    "        src = os.path.join(original_post_imp_dir, child)\n",
    "        dst = os.path.join(validation_post_imp_dir, child)\n",
    "        shutil.copyfile(src, dst)\n",
    "    else:\n",
    "        break\n",
    "    count += 1 "
   ]
  },
  {
   "cell_type": "code",
   "execution_count": null,
   "metadata": {},
   "outputs": [],
   "source": [
    "# Copy next 200 post-impressionism  images to test_post_imp_dir\n",
    "parent_list = os.listdir(original_post_imp_dir)\n",
    "count=0\n",
    "for child in parent_list:\n",
    "    if count<800:\n",
    "        pass\n",
    "    elif count >= 800 and count <1000:\n",
    "        src = os.path.join(original_post_imp_dir, child)\n",
    "        dst = os.path.join(test_post_imp_dir, child)\n",
    "        shutil.copyfile(src, dst)\n",
    "    else:\n",
    "        break\n",
    "    count += 1  "
   ]
  },
  {
   "cell_type": "code",
   "execution_count": null,
   "metadata": {},
   "outputs": [],
   "source": [
    "print('total training impressionism images:', len(os.listdir(train_imp_dir)))"
   ]
  }
 ],
 "metadata": {
  "kernelspec": {
   "display_name": "Python 3",
   "language": "python",
   "name": "python3"
  },
  "language_info": {
   "codemirror_mode": {
    "name": "ipython",
    "version": 3
   },
   "file_extension": ".py",
   "mimetype": "text/x-python",
   "name": "python",
   "nbconvert_exporter": "python",
   "pygments_lexer": "ipython3",
   "version": "3.8.5"
  }
 },
 "nbformat": 4,
 "nbformat_minor": 4
}
