{
 "cells": [
  {
   "cell_type": "code",
   "execution_count": 1,
   "metadata": {},
   "outputs": [],
   "source": [
    "import keras\n",
    "from keras.preprocessing.image import ImageDataGenerator\n",
    "\n",
    "import pandas as pd\n",
    "import numpy as np\n",
    "\n",
    "import seaborn as sns\n",
    "import matplotlib.pyplot as plt\n",
    "%matplotlib inline\n",
    "\n",
    "import glob\n",
    "import os\n",
    "from pathlib import Path\n",
    "import shutil"
   ]
  },
  {
   "cell_type": "code",
   "execution_count": 2,
   "metadata": {},
   "outputs": [],
   "source": [
    "all_images_df = pd.read_csv('all_data_info.csv')"
   ]
  },
  {
   "cell_type": "code",
   "execution_count": 3,
   "metadata": {},
   "outputs": [
    {
     "data": {
      "text/plain": [
       "Impressionism                   10643\n",
       "Realism                         10523\n",
       "Romanticism                      9285\n",
       "Expressionism                    7013\n",
       "Post-Impressionism               5778\n",
       "Art Nouveau (Modern)             4899\n",
       "Baroque                          4400\n",
       "Surrealism                       4167\n",
       "Symbolism                        3476\n",
       "Rococo                           2733\n",
       "Northern Renaissance             2379\n",
       "Naïve Art (Primitivism)          2295\n",
       "Abstract Expressionism           2074\n",
       "Neoclassicism                    2038\n",
       "Cubism                           1747\n",
       "Ukiyo-e                          1426\n",
       "Early Renaissance                1351\n",
       "Mannerism (Late Renaissance)     1342\n",
       "High Renaissance                 1314\n",
       "Art Informel                     1267\n",
       "Magic Realism                    1002\n",
       "Abstract Art                      979\n",
       "Academicism                       972\n",
       "Color Field Painting              910\n",
       "Pop Art                           791\n",
       "Name: style, dtype: int64"
      ]
     },
     "execution_count": 3,
     "metadata": {},
     "output_type": "execute_result"
    }
   ],
   "source": [
    "all_images_df['style'].value_counts().head(25)"
   ]
  },
  {
   "cell_type": "code",
   "execution_count": 41,
   "metadata": {},
   "outputs": [],
   "source": [
    "expressionism_df = all_images_df[all_images_df['style'] == 'Expressionism']"
   ]
  },
  {
   "cell_type": "code",
   "execution_count": 42,
   "metadata": {},
   "outputs": [],
   "source": [
    "expressionism_df = expressionism_df[expressionism_df['in_train'] == True]"
   ]
  },
  {
   "cell_type": "code",
   "execution_count": 43,
   "metadata": {},
   "outputs": [],
   "source": [
    "expressionism_list = list(expressionism_df['new_filename'])"
   ]
  },
  {
   "cell_type": "code",
   "execution_count": 44,
   "metadata": {},
   "outputs": [],
   "source": [
    "romanticism_df = all_images_df[all_images_df['style'] == 'Romanticism']"
   ]
  },
  {
   "cell_type": "code",
   "execution_count": 45,
   "metadata": {},
   "outputs": [],
   "source": [
    "romanticism_df = romanticism_df[romanticism_df['in_train'] == True]"
   ]
  },
  {
   "cell_type": "code",
   "execution_count": 53,
   "metadata": {},
   "outputs": [
    {
     "data": {
      "text/plain": [
       "Gustave Dore                387\n",
       "Ivan Aivazovsky             378\n",
       "Francisco Goya              304\n",
       "Charles M. Russell          218\n",
       "Konstantin Makovsky         191\n",
       "Charles Turner              186\n",
       "William Turner              172\n",
       "Orest Kiprensky             165\n",
       "Jan Matejko                 154\n",
       "Sir Lawrence Alma-Tadema    144\n",
       "Karl Bryullov               138\n",
       "Dante Gabriel Rossetti      134\n",
       "Eugene Delacroix            126\n",
       "Thomas Lawrence             121\n",
       "David Cox                   121\n",
       "Edward Burne-Jones          110\n",
       "Thomas Cole                 106\n",
       "Thomas Sully                 95\n",
       "John Constable               94\n",
       "Caspar David Friedrich       93\n",
       "Name: artist, dtype: int64"
      ]
     },
     "execution_count": 53,
     "metadata": {},
     "output_type": "execute_result"
    }
   ],
   "source": [
    "romanticism_df.artist.value_counts().head(20)"
   ]
  },
  {
   "cell_type": "code",
   "execution_count": 46,
   "metadata": {},
   "outputs": [],
   "source": [
    "romanticism_list = list(romanticism_df['new_filename'])"
   ]
  },
  {
   "cell_type": "code",
   "execution_count": 4,
   "metadata": {},
   "outputs": [],
   "source": [
    "surrealism_df = all_images_df[all_images_df['style'] == 'Surrealism']"
   ]
  },
  {
   "cell_type": "code",
   "execution_count": 5,
   "metadata": {},
   "outputs": [],
   "source": [
    "surrealism_df = surrealism_df[surrealism_df['in_train'] == True]"
   ]
  },
  {
   "cell_type": "code",
   "execution_count": 6,
   "metadata": {},
   "outputs": [],
   "source": [
    "surrealism_list = list(surrealism_df['new_filename'])"
   ]
  },
  {
   "cell_type": "code",
   "execution_count": 8,
   "metadata": {},
   "outputs": [],
   "source": [
    "rococo_df = all_images_df[all_images_df['style'] == 'Rococo']"
   ]
  },
  {
   "cell_type": "code",
   "execution_count": 9,
   "metadata": {},
   "outputs": [],
   "source": [
    "rococo_df = rococo_df.append(all_images_df[all_images_df['style'] == 'Neoclassicism'])"
   ]
  },
  {
   "cell_type": "code",
   "execution_count": 10,
   "metadata": {
    "scrolled": false
   },
   "outputs": [],
   "source": [
    "rococo_list = list(rococo_df['new_filename'])"
   ]
  },
  {
   "cell_type": "code",
   "execution_count": 11,
   "metadata": {},
   "outputs": [],
   "source": [
    "impressionism_df = all_images_df[all_images_df['style'] == 'Impressionism']"
   ]
  },
  {
   "cell_type": "code",
   "execution_count": 12,
   "metadata": {},
   "outputs": [],
   "source": [
    "impressionism_df = impressionism_df.append(all_images_df[all_images_df['style'] == 'Impressionism'])"
   ]
  },
  {
   "cell_type": "code",
   "execution_count": 13,
   "metadata": {},
   "outputs": [],
   "source": [
    "impressionism_list = list(impressionism_df['new_filename'])"
   ]
  },
  {
   "cell_type": "code",
   "execution_count": 14,
   "metadata": {},
   "outputs": [],
   "source": [
    "src = '/Users/carolineshi/Desktop/My_Repos_and_Work/Module_Six/neuralnet_project/code/train_6'\n",
    "dst = '/Users/carolineshi/Desktop/My_Repos_and_Work/Module_Six/neuralnet_project/code/surrealism'"
   ]
  },
  {
   "cell_type": "code",
   "execution_count": 15,
   "metadata": {},
   "outputs": [],
   "source": [
    "files = [i for i in os.listdir(src) if i in surrealism_list]\n",
    "\n",
    "for f in files:\n",
    "    shutil.copy(os.path.join(src, f), dst)"
   ]
  },
  {
   "cell_type": "code",
   "execution_count": 16,
   "metadata": {},
   "outputs": [],
   "source": [
    "neo_src = '/Users/carolineshi/Desktop/My_Repos_and_Work/Module_Six/neuralnet_project/code/train_6'\n",
    "neo_dst = '/Users/carolineshi/Desktop/My_Repos_and_Work/Module_Six/neuralnet_project/code/neoclassicism'"
   ]
  },
  {
   "cell_type": "code",
   "execution_count": 17,
   "metadata": {},
   "outputs": [],
   "source": [
    "files = [i for i in os.listdir(src) if i in rococo_list]\n",
    "\n",
    "for f in files:\n",
    "    shutil.copy(os.path.join(neo_src, f), neo_dst)"
   ]
  },
  {
   "cell_type": "code",
   "execution_count": 18,
   "metadata": {},
   "outputs": [],
   "source": [
    "imp_src = '/Users/carolineshi/Desktop/My_Repos_and_Work/Module_Six/neuralnet_project/code/train_6'\n",
    "imp_dst = '/Users/carolineshi/Desktop/My_Repos_and_Work/Module_Six/neuralnet_project/code/impressionism'"
   ]
  },
  {
   "cell_type": "code",
   "execution_count": 19,
   "metadata": {},
   "outputs": [],
   "source": [
    "files = [i for i in os.listdir(src) if i in impressionism_list]\n",
    "\n",
    "for f in files:\n",
    "    shutil.copy(os.path.join(imp_src, f), imp_dst)"
   ]
  },
  {
   "cell_type": "code",
   "execution_count": 18,
   "metadata": {},
   "outputs": [],
   "source": [
    "imp_src = '/Users/carolineshi/Desktop/My_Repos_and_Work/Module_Six/neuralnet_project/code/train_6'\n",
    "imp_dst = '/Users/carolineshi/Desktop/My_Repos_and_Work/Module_Six/neuralnet_project/code/impressionism'"
   ]
  },
  {
   "cell_type": "code",
   "execution_count": 19,
   "metadata": {},
   "outputs": [],
   "source": [
    "files = [i for i in os.listdir(src) if i in impressionism_list]\n",
    "\n",
    "for f in files:\n",
    "    shutil.copy(os.path.join(imp_src, f), imp_dst)"
   ]
  },
  {
   "cell_type": "code",
   "execution_count": 48,
   "metadata": {},
   "outputs": [],
   "source": [
    "exp_src = '/Users/carolineshi/Desktop/My_Repos_and_Work/Module_Six/neuralnet_project/code/train_7'\n",
    "exp_dst = '/Users/carolineshi/Desktop/My_Repos_and_Work/Module_Six/neuralnet_project/code/expressionism'\n",
    "\n",
    "files = [i for i in os.listdir(exp_src) if i in expressionism_list]\n",
    "\n",
    "for f in files:\n",
    "    shutil.copy(os.path.join(exp_src, f), exp_dst)"
   ]
  },
  {
   "cell_type": "code",
   "execution_count": 51,
   "metadata": {},
   "outputs": [],
   "source": [
    "rom_src = '/Users/carolineshi/Desktop/My_Repos_and_Work/Module_Six/neuralnet_project/code/train_6'\n",
    "rom_dst = '/Users/carolineshi/Desktop/My_Repos_and_Work/Module_Six/neuralnet_project/code/romanticism'\n",
    "\n",
    "files = [i for i in os.listdir(rom_src) if i in romanticism_list]\n",
    "\n",
    "for f in files:\n",
    "    shutil.copy(os.path.join(rom_src, f), rom_dst)"
   ]
  },
  {
   "cell_type": "code",
   "execution_count": 2,
   "metadata": {},
   "outputs": [],
   "source": [
    "original_sur_dir = '/Users/carolineshi/Desktop/My_Repos_and_Work/Module_Six/neuralnet_project/code/surrealism'\n",
    "original_neo_dir = '/Users/carolineshi/Desktop/My_Repos_and_Work/Module_Six/neuralnet_project/code/neoclassicism'\n",
    "original_imp_dir = '/Users/carolineshi/Desktop/My_Repos_and_Work/Module_Six/neuralnet_project/code/impressionism'\n",
    "original_exp_dir = '/Users/carolineshi/Desktop/My_Repos_and_Work/Module_Six/neuralnet_project/code/expressionism'\n",
    "original_rom_dir = '/Users/carolineshi/Desktop/My_Repos_and_Work/Module_Six/neuralnet_project/code/romanticism'"
   ]
  },
  {
   "cell_type": "code",
   "execution_count": 4,
   "metadata": {},
   "outputs": [],
   "source": [
    "base_dir = '/Users/carolineshi/Desktop/My_Repos_and_Work/Module_Six/neuralnet_project/code/fiveclass'\n",
    "os.mkdir(base_dir)"
   ]
  },
  {
   "cell_type": "code",
   "execution_count": 5,
   "metadata": {},
   "outputs": [],
   "source": [
    "train_dir = os.path.join(base_dir, 'train')\n",
    "os.mkdir(train_dir)\n",
    "\n",
    "validation_dir = os.path.join(base_dir, 'validation')\n",
    "os.mkdir(validation_dir)\n",
    "\n",
    "test_dir = os.path.join(base_dir, 'test')\n",
    "os.mkdir(test_dir)"
   ]
  },
  {
   "cell_type": "code",
   "execution_count": 6,
   "metadata": {},
   "outputs": [],
   "source": [
    "train_sur_dir = os.path.join(train_dir, 'surrealism')\n",
    "os.mkdir(train_sur_dir)\n",
    "\n",
    "train_neo_dir = os.path.join(train_dir, 'neoclassicism')\n",
    "os.mkdir(train_neo_dir)\n",
    "\n",
    "train_imp_dir = os.path.join(train_dir, 'impressionism')\n",
    "os.mkdir(train_imp_dir)\n",
    "\n",
    "train_exp_dir = os.path.join(train_dir, 'expressionism')\n",
    "os.mkdir(train_exp_dir)\n",
    "\n",
    "train_rom_dir = os.path.join(train_dir, 'romanticism')\n",
    "os.mkdir(train_rom_dir)"
   ]
  },
  {
   "cell_type": "code",
   "execution_count": 7,
   "metadata": {},
   "outputs": [],
   "source": [
    "validation_sur_dir = os.path.join(validation_dir, 'surrealism')\n",
    "os.mkdir(validation_sur_dir)\n",
    "\n",
    "validation_neo_dir = os.path.join(validation_dir, 'neoclassicism')\n",
    "os.mkdir(validation_neo_dir)\n",
    "\n",
    "validation_imp_dir = os.path.join(validation_dir, 'impressionism')\n",
    "os.mkdir(validation_imp_dir)\n",
    "\n",
    "validation_exp_dir = os.path.join(validation_dir, 'expressionism')\n",
    "os.mkdir(validation_exp_dir)\n",
    "\n",
    "validation_rom_dir = os.path.join(validation_dir, 'romanticism')\n",
    "os.mkdir(validation_rom_dir)"
   ]
  },
  {
   "cell_type": "code",
   "execution_count": 8,
   "metadata": {},
   "outputs": [],
   "source": [
    "test_sur_dir = os.path.join(test_dir, 'surrealism')\n",
    "os.mkdir(test_sur_dir)\n",
    "\n",
    "test_neo_dir = os.path.join(test_dir, 'neoclassicism')\n",
    "os.mkdir(test_neo_dir)\n",
    "\n",
    "test_imp_dir = os.path.join(test_dir, 'impressionism')\n",
    "os.mkdir(test_imp_dir)\n",
    "\n",
    "test_exp_dir = os.path.join(test_dir, 'expressionism')\n",
    "os.mkdir(test_exp_dir)\n",
    "\n",
    "test_rom_dir = os.path.join(test_dir, 'romanticism')\n",
    "os.mkdir(test_rom_dir)"
   ]
  },
  {
   "cell_type": "code",
   "execution_count": 9,
   "metadata": {},
   "outputs": [],
   "source": [
    "parent_list = os.listdir(original_sur_dir)\n",
    "count=0\n",
    "for child in parent_list:\n",
    "    if count<1600:\n",
    "        src = os.path.join(original_sur_dir, child)\n",
    "        dst = os.path.join(train_sur_dir, child)\n",
    "        shutil.copyfile(src, dst)\n",
    "    else:\n",
    "        break\n",
    "    count += 1 \n",
    "\n",
    "parent_list = os.listdir(original_sur_dir)\n",
    "count=0\n",
    "for child in parent_list:\n",
    "    if count<1600:\n",
    "        pass\n",
    "    elif count >= 1600 and count <1800:\n",
    "        src = os.path.join(original_sur_dir, child)\n",
    "        dst = os.path.join(validation_sur_dir, child)\n",
    "        shutil.copyfile(src, dst)\n",
    "    else:\n",
    "        break\n",
    "    count += 1 \n",
    "\n",
    "parent_list = os.listdir(original_sur_dir)\n",
    "count=0\n",
    "for child in parent_list:\n",
    "    if count<1800:\n",
    "        pass\n",
    "    elif count >= 1800 and count <2000:\n",
    "        src = os.path.join(original_sur_dir, child)\n",
    "        dst = os.path.join(test_sur_dir, child)\n",
    "        shutil.copyfile(src, dst)\n",
    "    else:\n",
    "        break\n",
    "    count += 1  "
   ]
  },
  {
   "cell_type": "code",
   "execution_count": 10,
   "metadata": {},
   "outputs": [],
   "source": [
    "parent_list = os.listdir(original_neo_dir)\n",
    "count=0\n",
    "for child in parent_list:\n",
    "    if count<1600:\n",
    "        src = os.path.join(original_neo_dir, child)\n",
    "        dst = os.path.join(train_neo_dir, child)\n",
    "        shutil.copyfile(src, dst)\n",
    "    else:\n",
    "        break\n",
    "    count += 1 \n",
    "\n",
    "parent_list = os.listdir(original_neo_dir)\n",
    "count=0\n",
    "for child in parent_list:\n",
    "    if count<1600:\n",
    "        pass\n",
    "    elif count >= 1600 and count <1800:\n",
    "        src = os.path.join(original_neo_dir, child)\n",
    "        dst = os.path.join(validation_neo_dir, child)\n",
    "        shutil.copyfile(src, dst)\n",
    "    else:\n",
    "        break\n",
    "    count += 1 \n",
    "\n",
    "parent_list = os.listdir(original_neo_dir)\n",
    "count=0\n",
    "for child in parent_list:\n",
    "    if count<1800:\n",
    "        pass\n",
    "    elif count >= 1800 and count <2000:\n",
    "        src = os.path.join(original_neo_dir, child)\n",
    "        dst = os.path.join(test_neo_dir, child)\n",
    "        shutil.copyfile(src, dst)\n",
    "    else:\n",
    "        break\n",
    "    count += 1  \n",
    "    "
   ]
  },
  {
   "cell_type": "code",
   "execution_count": 11,
   "metadata": {},
   "outputs": [],
   "source": [
    "parent_list = os.listdir(original_imp_dir)\n",
    "count=0\n",
    "for child in parent_list:\n",
    "    if count<1600:\n",
    "        src = os.path.join(original_imp_dir, child)\n",
    "        dst = os.path.join(train_imp_dir, child)\n",
    "        shutil.copyfile(src, dst)\n",
    "    else:\n",
    "        break\n",
    "    count += 1 \n",
    "\n",
    "parent_list = os.listdir(original_imp_dir)\n",
    "count=0\n",
    "for child in parent_list:\n",
    "    if count<1600:\n",
    "        pass\n",
    "    elif count >= 1600 and count <1800:\n",
    "        src = os.path.join(original_imp_dir, child)\n",
    "        dst = os.path.join(validation_imp_dir, child)\n",
    "        shutil.copyfile(src, dst)\n",
    "    else:\n",
    "        break\n",
    "    count += 1 \n",
    "\n",
    "parent_list = os.listdir(original_imp_dir)\n",
    "count=0\n",
    "for child in parent_list:\n",
    "    if count<1800:\n",
    "        pass\n",
    "    elif count >= 1800 and count <2000:\n",
    "        src = os.path.join(original_imp_dir, child)\n",
    "        dst = os.path.join(test_imp_dir, child)\n",
    "        shutil.copyfile(src, dst)\n",
    "    else:\n",
    "        break\n",
    "    count += 1 "
   ]
  },
  {
   "cell_type": "code",
   "execution_count": 12,
   "metadata": {},
   "outputs": [],
   "source": [
    "parent_list = os.listdir(original_exp_dir)\n",
    "count=0\n",
    "for child in parent_list:\n",
    "    if count<1600:\n",
    "        src = os.path.join(original_exp_dir, child)\n",
    "        dst = os.path.join(train_exp_dir, child)\n",
    "        shutil.copyfile(src, dst)\n",
    "    else:\n",
    "        break\n",
    "    count += 1 \n",
    "\n",
    "parent_list = os.listdir(original_exp_dir)\n",
    "count=0\n",
    "for child in parent_list:\n",
    "    if count<1600:\n",
    "        pass\n",
    "    elif count >= 1600 and count <1800:\n",
    "        src = os.path.join(original_exp_dir, child)\n",
    "        dst = os.path.join(validation_exp_dir, child)\n",
    "        shutil.copyfile(src, dst)\n",
    "    else:\n",
    "        break\n",
    "    count += 1 \n",
    "\n",
    "parent_list = os.listdir(original_exp_dir)\n",
    "count=0\n",
    "for child in parent_list:\n",
    "    if count<1800:\n",
    "        pass\n",
    "    elif count >= 1800 and count <2000:\n",
    "        src = os.path.join(original_exp_dir, child)\n",
    "        dst = os.path.join(test_exp_dir, child)\n",
    "        shutil.copyfile(src, dst)\n",
    "    else:\n",
    "        break\n",
    "    count += 1 "
   ]
  },
  {
   "cell_type": "code",
   "execution_count": 13,
   "metadata": {},
   "outputs": [],
   "source": [
    "parent_list = os.listdir(original_rom_dir)\n",
    "count=0\n",
    "for child in parent_list:\n",
    "    if count<1600:\n",
    "        src = os.path.join(original_rom_dir, child)\n",
    "        dst = os.path.join(train_rom_dir, child)\n",
    "        shutil.copyfile(src, dst)\n",
    "    else:\n",
    "        break\n",
    "    count += 1 \n",
    "\n",
    "parent_list = os.listdir(original_rom_dir)\n",
    "count=0\n",
    "for child in parent_list:\n",
    "    if count<1600:\n",
    "        pass\n",
    "    elif count >= 1600 and count <1800:\n",
    "        src = os.path.join(original_rom_dir, child)\n",
    "        dst = os.path.join(validation_rom_dir, child)\n",
    "        shutil.copyfile(src, dst)\n",
    "    else:\n",
    "        break\n",
    "    count += 1 \n",
    "\n",
    "parent_list = os.listdir(original_rom_dir)\n",
    "count=0\n",
    "for child in parent_list:\n",
    "    if count<1800:\n",
    "        pass\n",
    "    elif count >= 1800 and count <2000:\n",
    "        src = os.path.join(original_rom_dir, child)\n",
    "        dst = os.path.join(test_rom_dir, child)\n",
    "        shutil.copyfile(src, dst)\n",
    "    else:\n",
    "        break\n",
    "    count += 1 "
   ]
  },
  {
   "cell_type": "code",
   "execution_count": null,
   "metadata": {},
   "outputs": [],
   "source": []
  }
 ],
 "metadata": {
  "kernelspec": {
   "display_name": "Python 3",
   "language": "python",
   "name": "python3"
  },
  "language_info": {
   "codemirror_mode": {
    "name": "ipython",
    "version": 3
   },
   "file_extension": ".py",
   "mimetype": "text/x-python",
   "name": "python",
   "nbconvert_exporter": "python",
   "pygments_lexer": "ipython3",
   "version": "3.8.5"
  }
 },
 "nbformat": 4,
 "nbformat_minor": 4
}
