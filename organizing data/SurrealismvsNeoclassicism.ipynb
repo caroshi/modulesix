{
 "cells": [
  {
   "cell_type": "code",
   "execution_count": 2,
   "metadata": {},
   "outputs": [],
   "source": [
    "import keras\n",
    "from keras.preprocessing.image import ImageDataGenerator\n",
    "\n",
    "import pandas as pd\n",
    "import numpy as np\n",
    "\n",
    "import seaborn as sns\n",
    "import matplotlib.pyplot as plt\n",
    "%matplotlib inline\n",
    "\n",
    "import glob\n",
    "import os\n",
    "from pathlib import Path\n",
    "import shutil"
   ]
  },
  {
   "cell_type": "code",
   "execution_count": 3,
   "metadata": {},
   "outputs": [],
   "source": [
    "all_images_df = pd.read_csv('all_data_info.csv')"
   ]
  },
  {
   "cell_type": "code",
   "execution_count": 4,
   "metadata": {},
   "outputs": [
    {
     "data": {
      "text/plain": [
       "Impressionism                   10643\n",
       "Realism                         10523\n",
       "Romanticism                      9285\n",
       "Expressionism                    7013\n",
       "Post-Impressionism               5778\n",
       "Art Nouveau (Modern)             4899\n",
       "Baroque                          4400\n",
       "Surrealism                       4167\n",
       "Symbolism                        3476\n",
       "Rococo                           2733\n",
       "Northern Renaissance             2379\n",
       "Naïve Art (Primitivism)          2295\n",
       "Abstract Expressionism           2074\n",
       "Neoclassicism                    2038\n",
       "Cubism                           1747\n",
       "Ukiyo-e                          1426\n",
       "Early Renaissance                1351\n",
       "Mannerism (Late Renaissance)     1342\n",
       "High Renaissance                 1314\n",
       "Art Informel                     1267\n",
       "Magic Realism                    1002\n",
       "Abstract Art                      979\n",
       "Academicism                       972\n",
       "Color Field Painting              910\n",
       "Pop Art                           791\n",
       "Name: style, dtype: int64"
      ]
     },
     "execution_count": 4,
     "metadata": {},
     "output_type": "execute_result"
    }
   ],
   "source": [
    "all_images_df['style'].value_counts().head(25)"
   ]
  },
  {
   "cell_type": "code",
   "execution_count": 5,
   "metadata": {},
   "outputs": [],
   "source": [
    "surrealism_df = all_images_df[all_images_df['style'] == 'Surrealism']"
   ]
  },
  {
   "cell_type": "code",
   "execution_count": 6,
   "metadata": {},
   "outputs": [],
   "source": [
    "surrealism_df = surrealism_df[surrealism_df['in_train'] == True]"
   ]
  },
  {
   "cell_type": "code",
   "execution_count": 7,
   "metadata": {},
   "outputs": [],
   "source": [
    "surrealism_list = list(surrealism_df['new_filename'])"
   ]
  },
  {
   "cell_type": "code",
   "execution_count": 9,
   "metadata": {},
   "outputs": [],
   "source": [
    "rococo_df = all_images_df[all_images_df['style'] == 'Rococo']"
   ]
  },
  {
   "cell_type": "code",
   "execution_count": 10,
   "metadata": {},
   "outputs": [],
   "source": [
    "rococo_df = rococo_df.append(all_images_df[all_images_df['style'] == 'Neoclassicism'])"
   ]
  },
  {
   "cell_type": "code",
   "execution_count": null,
   "metadata": {},
   "outputs": [],
   "source": [
    "rococo_list = list(rococo_df['new_filename'])"
   ]
  },
  {
   "cell_type": "code",
   "execution_count": 16,
   "metadata": {},
   "outputs": [],
   "source": [
    "src = '/Users/carolineshi/Desktop/My_Repos_and_Work/Module_Six/neuralnet_project/code/train_5'\n",
    "dst = '/Users/carolineshi/Desktop/My_Repos_and_Work/Module_Six/neuralnet_project/code/surrealism'"
   ]
  },
  {
   "cell_type": "code",
   "execution_count": 17,
   "metadata": {},
   "outputs": [],
   "source": [
    "files = [i for i in os.listdir(src) if i in surrealism_list]\n",
    "\n",
    "for f in files:\n",
    "    shutil.copy(os.path.join(src, f), dst)"
   ]
  },
  {
   "cell_type": "code",
   "execution_count": 18,
   "metadata": {},
   "outputs": [],
   "source": [
    "post_src = '/Users/carolineshi/Desktop/My_Repos_and_Work/Module_Six/neuralnet_project/code/train_5'\n",
    "post_dst = '/Users/carolineshi/Desktop/My_Repos_and_Work/Module_Six/neuralnet_project/code/neoclassicism'"
   ]
  },
  {
   "cell_type": "code",
   "execution_count": 19,
   "metadata": {},
   "outputs": [],
   "source": [
    "files = [i for i in os.listdir(src) if i in rococo_list]\n",
    "\n",
    "for f in files:\n",
    "    shutil.copy(os.path.join(post_src, f), post_dst)"
   ]
  },
  {
   "cell_type": "code",
   "execution_count": 21,
   "metadata": {},
   "outputs": [],
   "source": [
    "original_sur_dir = '/Users/carolineshi/Desktop/My_Repos_and_Work/Module_Six/neuralnet_project/code/surrealism'\n",
    "original_neo_dir = '/Users/carolineshi/Desktop/My_Repos_and_Work/Module_Six/neuralnet_project/code/neoclassicism'"
   ]
  },
  {
   "cell_type": "code",
   "execution_count": 36,
   "metadata": {},
   "outputs": [],
   "source": [
    "base_dir = '/Users/carolineshi/Desktop/My_Repos_and_Work/Module_Six/neuralnet_project/code/modeltwo'\n",
    "os.mkdir(base_dir)"
   ]
  },
  {
   "cell_type": "code",
   "execution_count": 37,
   "metadata": {},
   "outputs": [],
   "source": [
    "train_dir = os.path.join(base_dir, 'train')\n",
    "os.mkdir(train_dir)\n",
    "\n",
    "validation_dir = os.path.join(base_dir, 'validation')\n",
    "os.mkdir(validation_dir)\n",
    "\n",
    "test_dir = os.path.join(base_dir, 'test')\n",
    "os.mkdir(test_dir)"
   ]
  },
  {
   "cell_type": "code",
   "execution_count": 41,
   "metadata": {},
   "outputs": [],
   "source": [
    "train_sur_dir = os.path.join(train_dir, 'surrealism')\n",
    "os.mkdir(train_sur_dir)\n",
    "\n",
    "train_neo_dir = os.path.join(train_dir, 'neoclassicism')\n",
    "os.mkdir(train_neo_dir)\n",
    "\n",
    "validation_sur_dir = os.path.join(validation_dir, 'surrealism')\n",
    "os.mkdir(validation_sur_dir)\n",
    "\n",
    "validation_neo_dir = os.path.join(validation_dir, 'neoclassicism')\n",
    "os.mkdir(validation_neo_dir)\n",
    "\n",
    "test_sur_dir = os.path.join(test_dir, 'surrealism')\n",
    "os.mkdir(test_sur_dir)\n",
    "\n",
    "test_neo_dir = os.path.join(test_dir, 'neoclassicism')\n",
    "os.mkdir(test_neo_dir)"
   ]
  },
  {
   "cell_type": "code",
   "execution_count": 24,
   "metadata": {},
   "outputs": [
    {
     "ename": "NameError",
     "evalue": "name 'test_neo_dir' is not defined",
     "output_type": "error",
     "traceback": [
      "\u001b[0;31m---------------------------------------------------------------------------\u001b[0m",
      "\u001b[0;31mNameError\u001b[0m                                 Traceback (most recent call last)",
      "\u001b[0;32m<ipython-input-24-747e31723258>\u001b[0m in \u001b[0;36m<module>\u001b[0;34m\u001b[0m\n\u001b[1;32m     73\u001b[0m     \u001b[0;32melif\u001b[0m \u001b[0mcount\u001b[0m \u001b[0;34m>=\u001b[0m \u001b[0;36m1530\u001b[0m \u001b[0;32mand\u001b[0m \u001b[0mcount\u001b[0m \u001b[0;34m<\u001b[0m\u001b[0;36m1800\u001b[0m\u001b[0;34m:\u001b[0m\u001b[0;34m\u001b[0m\u001b[0;34m\u001b[0m\u001b[0m\n\u001b[1;32m     74\u001b[0m         \u001b[0msrc\u001b[0m \u001b[0;34m=\u001b[0m \u001b[0mos\u001b[0m\u001b[0;34m.\u001b[0m\u001b[0mpath\u001b[0m\u001b[0;34m.\u001b[0m\u001b[0mjoin\u001b[0m\u001b[0;34m(\u001b[0m\u001b[0moriginal_neo_dir\u001b[0m\u001b[0;34m,\u001b[0m \u001b[0mchild\u001b[0m\u001b[0;34m)\u001b[0m\u001b[0;34m\u001b[0m\u001b[0;34m\u001b[0m\u001b[0m\n\u001b[0;32m---> 75\u001b[0;31m         \u001b[0mdst\u001b[0m \u001b[0;34m=\u001b[0m \u001b[0mos\u001b[0m\u001b[0;34m.\u001b[0m\u001b[0mpath\u001b[0m\u001b[0;34m.\u001b[0m\u001b[0mjoin\u001b[0m\u001b[0;34m(\u001b[0m\u001b[0mtest_neo_dir\u001b[0m\u001b[0;34m,\u001b[0m \u001b[0mchild\u001b[0m\u001b[0;34m)\u001b[0m\u001b[0;34m\u001b[0m\u001b[0;34m\u001b[0m\u001b[0m\n\u001b[0m\u001b[1;32m     76\u001b[0m         \u001b[0mshutil\u001b[0m\u001b[0;34m.\u001b[0m\u001b[0mcopyfile\u001b[0m\u001b[0;34m(\u001b[0m\u001b[0msrc\u001b[0m\u001b[0;34m,\u001b[0m \u001b[0mdst\u001b[0m\u001b[0;34m)\u001b[0m\u001b[0;34m\u001b[0m\u001b[0;34m\u001b[0m\u001b[0m\n\u001b[1;32m     77\u001b[0m     \u001b[0;32melse\u001b[0m\u001b[0;34m:\u001b[0m\u001b[0;34m\u001b[0m\u001b[0;34m\u001b[0m\u001b[0m\n",
      "\u001b[0;31mNameError\u001b[0m: name 'test_neo_dir' is not defined"
     ]
    }
   ],
   "source": [
    "parent_list = os.listdir(original_sur_dir)\n",
    "count=0\n",
    "for child in parent_list:\n",
    "    if count<1260:\n",
    "        src = os.path.join(original_sur_dir, child)\n",
    "        dst = os.path.join(train_sur_dir, child)\n",
    "        shutil.copyfile(src, dst)\n",
    "    else:\n",
    "        break\n",
    "    count += 1 \n",
    "\n",
    "parent_list = os.listdir(original_sur_dir)\n",
    "count=0\n",
    "for child in parent_list:\n",
    "    if count<1260:\n",
    "        pass\n",
    "    elif count >= 1260 and count <1530:\n",
    "        src = os.path.join(original_sur_dir, child)\n",
    "        dst = os.path.join(validation_sur_dir, child)\n",
    "        shutil.copyfile(src, dst)\n",
    "    else:\n",
    "        break\n",
    "    count += 1 \n",
    "\n",
    "parent_list = os.listdir(original_sur_dir)\n",
    "count=0\n",
    "for child in parent_list:\n",
    "    if count<1530:\n",
    "        pass\n",
    "    elif count >= 1530 and count <1800:\n",
    "        src = os.path.join(original_sur_dir, child)\n",
    "        dst = os.path.join(test_sur_dir, child)\n",
    "        shutil.copyfile(src, dst)\n",
    "    else:\n",
    "        break\n",
    "    count += 1  \n",
    "\n",
    "parent_list = os.listdir(original_neo_dir)\n",
    "count=0\n",
    "for child in parent_list:\n",
    "    if count<1260:\n",
    "        src = os.path.join(original_neo_dir, child)\n",
    "        dst = os.path.join(train_neo_dir, child)\n",
    "        shutil.copyfile(src, dst)\n",
    "    else:\n",
    "        break\n",
    "    count += 1 \n",
    "\n",
    "parent_list = os.listdir(original_neo_dir)\n",
    "count=0\n",
    "for child in parent_list:\n",
    "    if count<1260:\n",
    "        pass\n",
    "    elif count >= 1260 and count <1530:\n",
    "        src = os.path.join(original_neo_dir, child)\n",
    "        dst = os.path.join(validation_neo_dir, child)\n",
    "        shutil.copyfile(src, dst)\n",
    "    else:\n",
    "        break\n",
    "    count += 1 \n",
    "\n",
    "parent_list = os.listdir(original_neo_dir)\n",
    "count=0\n",
    "for child in parent_list:\n",
    "    if count<1530:\n",
    "        pass\n",
    "    elif count >= 1530 and count <1800:\n",
    "        src = os.path.join(original_neo_dir, child)\n",
    "        dst = os.path.join(test_neo_dir, child)\n",
    "        shutil.copyfile(src, dst)\n",
    "    else:\n",
    "        break\n",
    "    count += 1  "
   ]
  }
 ],
 "metadata": {
  "kernelspec": {
   "display_name": "Python 3",
   "language": "python",
   "name": "python3"
  },
  "language_info": {
   "codemirror_mode": {
    "name": "ipython",
    "version": 3
   },
   "file_extension": ".py",
   "mimetype": "text/x-python",
   "name": "python",
   "nbconvert_exporter": "python",
   "pygments_lexer": "ipython3",
   "version": "3.8.5"
  }
 },
 "nbformat": 4,
 "nbformat_minor": 4
}
